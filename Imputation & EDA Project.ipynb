{
 "cells": [
  {
   "cell_type": "markdown",
   "metadata": {},
   "source": [
    "# **Github - Project - stats**"
   ]
  },
  {
   "cell_type": "code",
   "execution_count": 1,
   "metadata": {},
   "outputs": [],
   "source": [
    "# Importing Libraries \n",
    "\n",
    "import pandas as pd                 # Pandas for data analysis\n",
    "import numpy as np                  # Numpy for Mathematical Analysis\n",
    "import seaborn as sns               # Seaborn for visualization of plots/graphs\n",
    "import matplotlib.pyplot as plt     # PYplot from Matplotlib for visualization of plots/graphs "
   ]
  },
  {
   "cell_type": "code",
   "execution_count": 11,
   "metadata": {},
   "outputs": [],
   "source": [
    "# Reading Dataset \n",
    "\n",
    "df = pd.read_csv(\"online.csv\")"
   ]
  },
  {
   "cell_type": "code",
   "execution_count": 12,
   "metadata": {},
   "outputs": [
    {
     "data": {
      "text/html": [
       "<div>\n",
       "<style scoped>\n",
       "    .dataframe tbody tr th:only-of-type {\n",
       "        vertical-align: middle;\n",
       "    }\n",
       "\n",
       "    .dataframe tbody tr th {\n",
       "        vertical-align: top;\n",
       "    }\n",
       "\n",
       "    .dataframe thead th {\n",
       "        text-align: right;\n",
       "    }\n",
       "</style>\n",
       "<table border=\"1\" class=\"dataframe\">\n",
       "  <thead>\n",
       "    <tr style=\"text-align: right;\">\n",
       "      <th></th>\n",
       "      <th>Unnamed: 0</th>\n",
       "      <th>order_status</th>\n",
       "      <th>Monthly Income</th>\n",
       "      <th>latitude</th>\n",
       "      <th>Marital Status</th>\n",
       "      <th>Gender</th>\n",
       "      <th>employment_status</th>\n",
       "      <th>Family size</th>\n",
       "      <th>Reviews</th>\n",
       "      <th>Pin code</th>\n",
       "      <th>Age</th>\n",
       "      <th>longitude</th>\n",
       "      <th>Educational Qualifications</th>\n",
       "      <th>Unnamed: 13</th>\n",
       "      <th>9</th>\n",
       "      <th>#@%</th>\n",
       "    </tr>\n",
       "  </thead>\n",
       "  <tbody>\n",
       "    <tr>\n",
       "      <th>0</th>\n",
       "      <td>0</td>\n",
       "      <td>Yes</td>\n",
       "      <td>25001 to 50000</td>\n",
       "      <td>13.0262</td>\n",
       "      <td>Married</td>\n",
       "      <td>Male</td>\n",
       "      <td>Employee</td>\n",
       "      <td>5.0</td>\n",
       "      <td>Positive</td>\n",
       "      <td>560045</td>\n",
       "      <td>28.0</td>\n",
       "      <td>77.6200</td>\n",
       "      <td>Post Graduate</td>\n",
       "      <td>Yes</td>\n",
       "      <td>NaN</td>\n",
       "      <td>swiggyscount</td>\n",
       "    </tr>\n",
       "    <tr>\n",
       "      <th>1</th>\n",
       "      <td>1</td>\n",
       "      <td>Yes</td>\n",
       "      <td>No Income</td>\n",
       "      <td>12.9770</td>\n",
       "      <td>Single</td>\n",
       "      <td>Male</td>\n",
       "      <td>Student</td>\n",
       "      <td>NaN</td>\n",
       "      <td>Positive</td>\n",
       "      <td>560009</td>\n",
       "      <td>NaN</td>\n",
       "      <td>77.5773</td>\n",
       "      <td>Post Graduate</td>\n",
       "      <td>Yes</td>\n",
       "      <td>NaN</td>\n",
       "      <td>*7435</td>\n",
       "    </tr>\n",
       "    <tr>\n",
       "      <th>2</th>\n",
       "      <td>2</td>\n",
       "      <td>Yes</td>\n",
       "      <td>No Income</td>\n",
       "      <td>12.9770</td>\n",
       "      <td>Single</td>\n",
       "      <td>Female</td>\n",
       "      <td>Student</td>\n",
       "      <td>NaN</td>\n",
       "      <td>Positive</td>\n",
       "      <td>560009</td>\n",
       "      <td>NaN</td>\n",
       "      <td>77.5773</td>\n",
       "      <td>Post Graduate</td>\n",
       "      <td>Yes</td>\n",
       "      <td>NaN</td>\n",
       "      <td>*7435</td>\n",
       "    </tr>\n",
       "    <tr>\n",
       "      <th>3</th>\n",
       "      <td>3</td>\n",
       "      <td>Yes</td>\n",
       "      <td>No Income</td>\n",
       "      <td>13.0019</td>\n",
       "      <td>Single</td>\n",
       "      <td>Female</td>\n",
       "      <td>Student</td>\n",
       "      <td>NaN</td>\n",
       "      <td>Positive</td>\n",
       "      <td>560003</td>\n",
       "      <td>NaN</td>\n",
       "      <td>77.5713</td>\n",
       "      <td>Post Graduate</td>\n",
       "      <td>Yes</td>\n",
       "      <td>NaN</td>\n",
       "      <td>*7435</td>\n",
       "    </tr>\n",
       "    <tr>\n",
       "      <th>4</th>\n",
       "      <td>4</td>\n",
       "      <td>Yes</td>\n",
       "      <td>More than 50000</td>\n",
       "      <td>13.0626</td>\n",
       "      <td>Married</td>\n",
       "      <td>Male</td>\n",
       "      <td>Self Employeed</td>\n",
       "      <td>NaN</td>\n",
       "      <td>Positive</td>\n",
       "      <td>560015</td>\n",
       "      <td>NaN</td>\n",
       "      <td>77.5284</td>\n",
       "      <td>School</td>\n",
       "      <td>Yes</td>\n",
       "      <td>NaN</td>\n",
       "      <td>*7435</td>\n",
       "    </tr>\n",
       "  </tbody>\n",
       "</table>\n",
       "</div>"
      ],
      "text/plain": [
       "   Unnamed: 0 order_status   Monthly Income  latitude Marital Status  Gender  \\\n",
       "0           0          Yes   25001 to 50000   13.0262        Married    Male   \n",
       "1           1          Yes        No Income   12.9770         Single    Male   \n",
       "2           2          Yes        No Income   12.9770         Single  Female   \n",
       "3           3          Yes        No Income   13.0019         Single  Female   \n",
       "4           4          Yes  More than 50000   13.0626        Married    Male   \n",
       "\n",
       "  employment_status  Family size   Reviews  Pin code   Age  longitude  \\\n",
       "0          Employee          5.0  Positive    560045  28.0    77.6200   \n",
       "1           Student          NaN  Positive    560009   NaN    77.5773   \n",
       "2           Student          NaN  Positive    560009   NaN    77.5773   \n",
       "3           Student          NaN  Positive    560003   NaN    77.5713   \n",
       "4    Self Employeed          NaN  Positive    560015   NaN    77.5284   \n",
       "\n",
       "  Educational Qualifications Unnamed: 13   9           #@%  \n",
       "0              Post Graduate         Yes NaN  swiggyscount  \n",
       "1              Post Graduate         Yes NaN         *7435  \n",
       "2              Post Graduate         Yes NaN         *7435  \n",
       "3              Post Graduate         Yes NaN         *7435  \n",
       "4                     School         Yes NaN         *7435  "
      ]
     },
     "execution_count": 12,
     "metadata": {},
     "output_type": "execute_result"
    }
   ],
   "source": [
    "# View over top rows\n",
    "df.head()"
   ]
  },
  {
   "cell_type": "code",
   "execution_count": 13,
   "metadata": {},
   "outputs": [],
   "source": [
    "# Droppinf unwanted columns\n",
    "df.drop(columns = (['Unnamed: 0', 'Unnamed: 13','9','#@%']), axis = 1, inplace = True)"
   ]
  },
  {
   "cell_type": "code",
   "execution_count": 14,
   "metadata": {},
   "outputs": [
    {
     "data": {
      "text/html": [
       "<div>\n",
       "<style scoped>\n",
       "    .dataframe tbody tr th:only-of-type {\n",
       "        vertical-align: middle;\n",
       "    }\n",
       "\n",
       "    .dataframe tbody tr th {\n",
       "        vertical-align: top;\n",
       "    }\n",
       "\n",
       "    .dataframe thead th {\n",
       "        text-align: right;\n",
       "    }\n",
       "</style>\n",
       "<table border=\"1\" class=\"dataframe\">\n",
       "  <thead>\n",
       "    <tr style=\"text-align: right;\">\n",
       "      <th></th>\n",
       "      <th>order_status</th>\n",
       "      <th>Monthly Income</th>\n",
       "      <th>latitude</th>\n",
       "      <th>Marital Status</th>\n",
       "      <th>Gender</th>\n",
       "      <th>employment_status</th>\n",
       "      <th>Family size</th>\n",
       "      <th>Reviews</th>\n",
       "      <th>Pin code</th>\n",
       "      <th>Age</th>\n",
       "      <th>longitude</th>\n",
       "      <th>Educational Qualifications</th>\n",
       "    </tr>\n",
       "  </thead>\n",
       "  <tbody>\n",
       "    <tr>\n",
       "      <th>0</th>\n",
       "      <td>Yes</td>\n",
       "      <td>25001 to 50000</td>\n",
       "      <td>13.0262</td>\n",
       "      <td>Married</td>\n",
       "      <td>Male</td>\n",
       "      <td>Employee</td>\n",
       "      <td>5.0</td>\n",
       "      <td>Positive</td>\n",
       "      <td>560045</td>\n",
       "      <td>28.0</td>\n",
       "      <td>77.6200</td>\n",
       "      <td>Post Graduate</td>\n",
       "    </tr>\n",
       "    <tr>\n",
       "      <th>1</th>\n",
       "      <td>Yes</td>\n",
       "      <td>No Income</td>\n",
       "      <td>12.9770</td>\n",
       "      <td>Single</td>\n",
       "      <td>Male</td>\n",
       "      <td>Student</td>\n",
       "      <td>NaN</td>\n",
       "      <td>Positive</td>\n",
       "      <td>560009</td>\n",
       "      <td>NaN</td>\n",
       "      <td>77.5773</td>\n",
       "      <td>Post Graduate</td>\n",
       "    </tr>\n",
       "    <tr>\n",
       "      <th>2</th>\n",
       "      <td>Yes</td>\n",
       "      <td>No Income</td>\n",
       "      <td>12.9770</td>\n",
       "      <td>Single</td>\n",
       "      <td>Female</td>\n",
       "      <td>Student</td>\n",
       "      <td>NaN</td>\n",
       "      <td>Positive</td>\n",
       "      <td>560009</td>\n",
       "      <td>NaN</td>\n",
       "      <td>77.5773</td>\n",
       "      <td>Post Graduate</td>\n",
       "    </tr>\n",
       "    <tr>\n",
       "      <th>3</th>\n",
       "      <td>Yes</td>\n",
       "      <td>No Income</td>\n",
       "      <td>13.0019</td>\n",
       "      <td>Single</td>\n",
       "      <td>Female</td>\n",
       "      <td>Student</td>\n",
       "      <td>NaN</td>\n",
       "      <td>Positive</td>\n",
       "      <td>560003</td>\n",
       "      <td>NaN</td>\n",
       "      <td>77.5713</td>\n",
       "      <td>Post Graduate</td>\n",
       "    </tr>\n",
       "    <tr>\n",
       "      <th>4</th>\n",
       "      <td>Yes</td>\n",
       "      <td>More than 50000</td>\n",
       "      <td>13.0626</td>\n",
       "      <td>Married</td>\n",
       "      <td>Male</td>\n",
       "      <td>Self Employeed</td>\n",
       "      <td>NaN</td>\n",
       "      <td>Positive</td>\n",
       "      <td>560015</td>\n",
       "      <td>NaN</td>\n",
       "      <td>77.5284</td>\n",
       "      <td>School</td>\n",
       "    </tr>\n",
       "  </tbody>\n",
       "</table>\n",
       "</div>"
      ],
      "text/plain": [
       "  order_status   Monthly Income  latitude Marital Status  Gender  \\\n",
       "0          Yes   25001 to 50000   13.0262        Married    Male   \n",
       "1          Yes        No Income   12.9770         Single    Male   \n",
       "2          Yes        No Income   12.9770         Single  Female   \n",
       "3          Yes        No Income   13.0019         Single  Female   \n",
       "4          Yes  More than 50000   13.0626        Married    Male   \n",
       "\n",
       "  employment_status  Family size   Reviews  Pin code   Age  longitude  \\\n",
       "0          Employee          5.0  Positive    560045  28.0    77.6200   \n",
       "1           Student          NaN  Positive    560009   NaN    77.5773   \n",
       "2           Student          NaN  Positive    560009   NaN    77.5773   \n",
       "3           Student          NaN  Positive    560003   NaN    77.5713   \n",
       "4    Self Employeed          NaN  Positive    560015   NaN    77.5284   \n",
       "\n",
       "  Educational Qualifications  \n",
       "0              Post Graduate  \n",
       "1              Post Graduate  \n",
       "2              Post Graduate  \n",
       "3              Post Graduate  \n",
       "4                     School  "
      ]
     },
     "execution_count": 14,
     "metadata": {},
     "output_type": "execute_result"
    }
   ],
   "source": [
    "# Verfying whether column dropped or not \n",
    "df.head()"
   ]
  },
  {
   "cell_type": "code",
   "execution_count": 15,
   "metadata": {},
   "outputs": [
    {
     "data": {
      "text/plain": [
       "(388, 12)"
      ]
     },
     "execution_count": 15,
     "metadata": {},
     "output_type": "execute_result"
    }
   ],
   "source": [
    "# Shape of dataset = (rows, columns) of dataset\n",
    "df.shape"
   ]
  },
  {
   "cell_type": "code",
   "execution_count": 16,
   "metadata": {},
   "outputs": [
    {
     "name": "stdout",
     "output_type": "stream",
     "text": [
      "<class 'pandas.core.frame.DataFrame'>\n",
      "RangeIndex: 388 entries, 0 to 387\n",
      "Data columns (total 12 columns):\n",
      " #   Column                      Non-Null Count  Dtype  \n",
      "---  ------                      --------------  -----  \n",
      " 0   order_status                388 non-null    object \n",
      " 1   Monthly Income              388 non-null    object \n",
      " 2   latitude                    388 non-null    float64\n",
      " 3   Marital Status              388 non-null    object \n",
      " 4   Gender                      388 non-null    object \n",
      " 5   employment_status           388 non-null    object \n",
      " 6   Family size                 369 non-null    float64\n",
      " 7   Reviews                     388 non-null    object \n",
      " 8   Pin code                    388 non-null    int64  \n",
      " 9   Age                         369 non-null    float64\n",
      " 10  longitude                   388 non-null    float64\n",
      " 11  Educational Qualifications  388 non-null    object \n",
      "dtypes: float64(4), int64(1), object(7)\n",
      "memory usage: 36.5+ KB\n"
     ]
    }
   ],
   "source": [
    "# Information on data columns and its datatype with null values\n",
    "df.info()"
   ]
  },
  {
   "cell_type": "code",
   "execution_count": 17,
   "metadata": {},
   "outputs": [
    {
     "data": {
      "text/html": [
       "<div>\n",
       "<style scoped>\n",
       "    .dataframe tbody tr th:only-of-type {\n",
       "        vertical-align: middle;\n",
       "    }\n",
       "\n",
       "    .dataframe tbody tr th {\n",
       "        vertical-align: top;\n",
       "    }\n",
       "\n",
       "    .dataframe thead th {\n",
       "        text-align: right;\n",
       "    }\n",
       "</style>\n",
       "<table border=\"1\" class=\"dataframe\">\n",
       "  <thead>\n",
       "    <tr style=\"text-align: right;\">\n",
       "      <th></th>\n",
       "      <th>latitude</th>\n",
       "      <th>Family size</th>\n",
       "      <th>Pin code</th>\n",
       "      <th>Age</th>\n",
       "      <th>longitude</th>\n",
       "    </tr>\n",
       "  </thead>\n",
       "  <tbody>\n",
       "    <tr>\n",
       "      <th>count</th>\n",
       "      <td>388.000000</td>\n",
       "      <td>369.000000</td>\n",
       "      <td>388.000000</td>\n",
       "      <td>369.000000</td>\n",
       "      <td>388.000000</td>\n",
       "    </tr>\n",
       "    <tr>\n",
       "      <th>mean</th>\n",
       "      <td>12.972058</td>\n",
       "      <td>3.298103</td>\n",
       "      <td>560040.113402</td>\n",
       "      <td>24.666667</td>\n",
       "      <td>77.600160</td>\n",
       "    </tr>\n",
       "    <tr>\n",
       "      <th>std</th>\n",
       "      <td>0.044489</td>\n",
       "      <td>1.354550</td>\n",
       "      <td>31.399609</td>\n",
       "      <td>2.968128</td>\n",
       "      <td>0.051354</td>\n",
       "    </tr>\n",
       "    <tr>\n",
       "      <th>min</th>\n",
       "      <td>12.865200</td>\n",
       "      <td>1.000000</td>\n",
       "      <td>560001.000000</td>\n",
       "      <td>18.000000</td>\n",
       "      <td>77.484200</td>\n",
       "    </tr>\n",
       "    <tr>\n",
       "      <th>25%</th>\n",
       "      <td>12.936900</td>\n",
       "      <td>2.000000</td>\n",
       "      <td>560010.750000</td>\n",
       "      <td>23.000000</td>\n",
       "      <td>77.565275</td>\n",
       "    </tr>\n",
       "    <tr>\n",
       "      <th>50%</th>\n",
       "      <td>12.977000</td>\n",
       "      <td>3.000000</td>\n",
       "      <td>560033.500000</td>\n",
       "      <td>24.000000</td>\n",
       "      <td>77.592100</td>\n",
       "    </tr>\n",
       "    <tr>\n",
       "      <th>75%</th>\n",
       "      <td>12.997025</td>\n",
       "      <td>4.000000</td>\n",
       "      <td>560068.000000</td>\n",
       "      <td>26.000000</td>\n",
       "      <td>77.630900</td>\n",
       "    </tr>\n",
       "    <tr>\n",
       "      <th>max</th>\n",
       "      <td>13.102000</td>\n",
       "      <td>6.000000</td>\n",
       "      <td>560109.000000</td>\n",
       "      <td>33.000000</td>\n",
       "      <td>77.758200</td>\n",
       "    </tr>\n",
       "  </tbody>\n",
       "</table>\n",
       "</div>"
      ],
      "text/plain": [
       "         latitude  Family size       Pin code         Age   longitude\n",
       "count  388.000000   369.000000     388.000000  369.000000  388.000000\n",
       "mean    12.972058     3.298103  560040.113402   24.666667   77.600160\n",
       "std      0.044489     1.354550      31.399609    2.968128    0.051354\n",
       "min     12.865200     1.000000  560001.000000   18.000000   77.484200\n",
       "25%     12.936900     2.000000  560010.750000   23.000000   77.565275\n",
       "50%     12.977000     3.000000  560033.500000   24.000000   77.592100\n",
       "75%     12.997025     4.000000  560068.000000   26.000000   77.630900\n",
       "max     13.102000     6.000000  560109.000000   33.000000   77.758200"
      ]
     },
     "execution_count": 17,
     "metadata": {},
     "output_type": "execute_result"
    }
   ],
   "source": [
    "# Statistical Info of dataset\n",
    "df.describe()"
   ]
  },
  {
   "cell_type": "code",
   "execution_count": 18,
   "metadata": {},
   "outputs": [
    {
     "data": {
      "text/plain": [
       "Index(['order_status', 'Monthly Income', 'latitude', 'Marital Status',\n",
       "       'Gender', 'employment_status', 'Family size', 'Reviews', 'Pin code',\n",
       "       'Age', 'longitude', 'Educational Qualifications'],\n",
       "      dtype='object')"
      ]
     },
     "execution_count": 18,
     "metadata": {},
     "output_type": "execute_result"
    }
   ],
   "source": [
    "# Checkign the names of columns present in dataset\n",
    "df.columns"
   ]
  },
  {
   "cell_type": "code",
   "execution_count": 19,
   "metadata": {},
   "outputs": [
    {
     "data": {
      "text/plain": [
       "order_status                   0\n",
       "Monthly Income                 0\n",
       "latitude                       0\n",
       "Marital Status                 0\n",
       "Gender                         0\n",
       "employment_status              0\n",
       "Family size                   19\n",
       "Reviews                        0\n",
       "Pin code                       0\n",
       "Age                           19\n",
       "longitude                      0\n",
       "Educational Qualifications     0\n",
       "dtype: int64"
      ]
     },
     "execution_count": 19,
     "metadata": {},
     "output_type": "execute_result"
    }
   ],
   "source": [
    "# Checkign null valeus in dataset \n",
    "df.isnull().sum()"
   ]
  },
  {
   "cell_type": "code",
   "execution_count": 20,
   "metadata": {},
   "outputs": [
    {
     "data": {
      "text/html": [
       "<div>\n",
       "<style scoped>\n",
       "    .dataframe tbody tr th:only-of-type {\n",
       "        vertical-align: middle;\n",
       "    }\n",
       "\n",
       "    .dataframe tbody tr th {\n",
       "        vertical-align: top;\n",
       "    }\n",
       "\n",
       "    .dataframe thead th {\n",
       "        text-align: right;\n",
       "    }\n",
       "</style>\n",
       "<table border=\"1\" class=\"dataframe\">\n",
       "  <thead>\n",
       "    <tr style=\"text-align: right;\">\n",
       "      <th></th>\n",
       "      <th>order_status</th>\n",
       "      <th>Monthly Income</th>\n",
       "      <th>latitude</th>\n",
       "      <th>Marital Status</th>\n",
       "      <th>Gender</th>\n",
       "      <th>employment_status</th>\n",
       "      <th>Family size</th>\n",
       "      <th>Reviews</th>\n",
       "      <th>Pin code</th>\n",
       "      <th>Age</th>\n",
       "      <th>longitude</th>\n",
       "      <th>Educational Qualifications</th>\n",
       "    </tr>\n",
       "  </thead>\n",
       "  <tbody>\n",
       "    <tr>\n",
       "      <th>29</th>\n",
       "      <td>Yes</td>\n",
       "      <td>No Income</td>\n",
       "      <td>12.9369</td>\n",
       "      <td>Single</td>\n",
       "      <td>Female</td>\n",
       "      <td>Student</td>\n",
       "      <td>2.0</td>\n",
       "      <td>Positive</td>\n",
       "      <td>560095</td>\n",
       "      <td>22.0</td>\n",
       "      <td>77.6407</td>\n",
       "      <td>Graduate</td>\n",
       "    </tr>\n",
       "    <tr>\n",
       "      <th>59</th>\n",
       "      <td>Yes</td>\n",
       "      <td>10001 to 25000</td>\n",
       "      <td>12.9337</td>\n",
       "      <td>Single</td>\n",
       "      <td>Female</td>\n",
       "      <td>Employee</td>\n",
       "      <td>4.0</td>\n",
       "      <td>Positive</td>\n",
       "      <td>560011</td>\n",
       "      <td>24.0</td>\n",
       "      <td>77.5900</td>\n",
       "      <td>Post Graduate</td>\n",
       "    </tr>\n",
       "    <tr>\n",
       "      <th>71</th>\n",
       "      <td>Yes</td>\n",
       "      <td>25001 to 50000</td>\n",
       "      <td>12.9706</td>\n",
       "      <td>Married</td>\n",
       "      <td>Male</td>\n",
       "      <td>Employee</td>\n",
       "      <td>3.0</td>\n",
       "      <td>Positive</td>\n",
       "      <td>560075</td>\n",
       "      <td>32.0</td>\n",
       "      <td>77.6529</td>\n",
       "      <td>Graduate</td>\n",
       "    </tr>\n",
       "    <tr>\n",
       "      <th>82</th>\n",
       "      <td>Yes</td>\n",
       "      <td>No Income</td>\n",
       "      <td>12.9854</td>\n",
       "      <td>Single</td>\n",
       "      <td>Female</td>\n",
       "      <td>Student</td>\n",
       "      <td>4.0</td>\n",
       "      <td>Positive</td>\n",
       "      <td>560048</td>\n",
       "      <td>23.0</td>\n",
       "      <td>77.7081</td>\n",
       "      <td>Post Graduate</td>\n",
       "    </tr>\n",
       "    <tr>\n",
       "      <th>86</th>\n",
       "      <td>Yes</td>\n",
       "      <td>No Income</td>\n",
       "      <td>12.9854</td>\n",
       "      <td>Single</td>\n",
       "      <td>Female</td>\n",
       "      <td>Student</td>\n",
       "      <td>4.0</td>\n",
       "      <td>Positive</td>\n",
       "      <td>560048</td>\n",
       "      <td>23.0</td>\n",
       "      <td>77.7081</td>\n",
       "      <td>Post Graduate</td>\n",
       "    </tr>\n",
       "    <tr>\n",
       "      <th>...</th>\n",
       "      <td>...</td>\n",
       "      <td>...</td>\n",
       "      <td>...</td>\n",
       "      <td>...</td>\n",
       "      <td>...</td>\n",
       "      <td>...</td>\n",
       "      <td>...</td>\n",
       "      <td>...</td>\n",
       "      <td>...</td>\n",
       "      <td>...</td>\n",
       "      <td>...</td>\n",
       "      <td>...</td>\n",
       "    </tr>\n",
       "    <tr>\n",
       "      <th>376</th>\n",
       "      <td>Yes</td>\n",
       "      <td>More than 50000</td>\n",
       "      <td>12.9783</td>\n",
       "      <td>Single</td>\n",
       "      <td>Male</td>\n",
       "      <td>Self Employeed</td>\n",
       "      <td>2.0</td>\n",
       "      <td>Positive</td>\n",
       "      <td>560038</td>\n",
       "      <td>25.0</td>\n",
       "      <td>77.6408</td>\n",
       "      <td>Graduate</td>\n",
       "    </tr>\n",
       "    <tr>\n",
       "      <th>377</th>\n",
       "      <td>No</td>\n",
       "      <td>25001 to 50000</td>\n",
       "      <td>12.9783</td>\n",
       "      <td>Married</td>\n",
       "      <td>Female</td>\n",
       "      <td>Employee</td>\n",
       "      <td>4.0</td>\n",
       "      <td>Negative</td>\n",
       "      <td>560038</td>\n",
       "      <td>29.0</td>\n",
       "      <td>77.6408</td>\n",
       "      <td>Graduate</td>\n",
       "    </tr>\n",
       "    <tr>\n",
       "      <th>378</th>\n",
       "      <td>No</td>\n",
       "      <td>10001 to 25000</td>\n",
       "      <td>12.9706</td>\n",
       "      <td>Married</td>\n",
       "      <td>Female</td>\n",
       "      <td>Self Employeed</td>\n",
       "      <td>5.0</td>\n",
       "      <td>Negative</td>\n",
       "      <td>560075</td>\n",
       "      <td>26.0</td>\n",
       "      <td>77.6529</td>\n",
       "      <td>Graduate</td>\n",
       "    </tr>\n",
       "    <tr>\n",
       "      <th>384</th>\n",
       "      <td>Yes</td>\n",
       "      <td>No Income</td>\n",
       "      <td>13.0223</td>\n",
       "      <td>Single</td>\n",
       "      <td>Male</td>\n",
       "      <td>Student</td>\n",
       "      <td>3.0</td>\n",
       "      <td>Positive</td>\n",
       "      <td>560049</td>\n",
       "      <td>23.0</td>\n",
       "      <td>77.7132</td>\n",
       "      <td>Graduate</td>\n",
       "    </tr>\n",
       "    <tr>\n",
       "      <th>387</th>\n",
       "      <td>Yes</td>\n",
       "      <td>No Income</td>\n",
       "      <td>12.9770</td>\n",
       "      <td>Single</td>\n",
       "      <td>Male</td>\n",
       "      <td>Student</td>\n",
       "      <td>1.0</td>\n",
       "      <td>Positive</td>\n",
       "      <td>560009</td>\n",
       "      <td>25.0</td>\n",
       "      <td>77.5773</td>\n",
       "      <td>Graduate</td>\n",
       "    </tr>\n",
       "  </tbody>\n",
       "</table>\n",
       "<p>97 rows × 12 columns</p>\n",
       "</div>"
      ],
      "text/plain": [
       "    order_status   Monthly Income  latitude Marital Status  Gender  \\\n",
       "29           Yes        No Income   12.9369         Single  Female   \n",
       "59           Yes   10001 to 25000   12.9337         Single  Female   \n",
       "71           Yes   25001 to 50000   12.9706        Married    Male   \n",
       "82           Yes        No Income   12.9854         Single  Female   \n",
       "86           Yes        No Income   12.9854         Single  Female   \n",
       "..           ...              ...       ...            ...     ...   \n",
       "376          Yes  More than 50000   12.9783         Single    Male   \n",
       "377           No   25001 to 50000   12.9783        Married  Female   \n",
       "378           No   10001 to 25000   12.9706        Married  Female   \n",
       "384          Yes        No Income   13.0223         Single    Male   \n",
       "387          Yes        No Income   12.9770         Single    Male   \n",
       "\n",
       "    employment_status  Family size    Reviews  Pin code   Age  longitude  \\\n",
       "29            Student          2.0   Positive    560095  22.0    77.6407   \n",
       "59           Employee          4.0   Positive    560011  24.0    77.5900   \n",
       "71           Employee          3.0   Positive    560075  32.0    77.6529   \n",
       "82            Student          4.0   Positive    560048  23.0    77.7081   \n",
       "86            Student          4.0   Positive    560048  23.0    77.7081   \n",
       "..                ...          ...        ...       ...   ...        ...   \n",
       "376    Self Employeed          2.0   Positive    560038  25.0    77.6408   \n",
       "377          Employee          4.0  Negative     560038  29.0    77.6408   \n",
       "378    Self Employeed          5.0  Negative     560075  26.0    77.6529   \n",
       "384           Student          3.0   Positive    560049  23.0    77.7132   \n",
       "387           Student          1.0   Positive    560009  25.0    77.5773   \n",
       "\n",
       "    Educational Qualifications  \n",
       "29                    Graduate  \n",
       "59               Post Graduate  \n",
       "71                    Graduate  \n",
       "82               Post Graduate  \n",
       "86               Post Graduate  \n",
       "..                         ...  \n",
       "376                   Graduate  \n",
       "377                   Graduate  \n",
       "378                   Graduate  \n",
       "384                   Graduate  \n",
       "387                   Graduate  \n",
       "\n",
       "[97 rows x 12 columns]"
      ]
     },
     "execution_count": 20,
     "metadata": {},
     "output_type": "execute_result"
    }
   ],
   "source": [
    "# Checking Duplicated values in columnms\n",
    "\n",
    "df[df.duplicated()]"
   ]
  },
  {
   "cell_type": "markdown",
   "metadata": {},
   "source": [
    "Total there are 97 duplicated rows, further we remove those as we need only unique values in dataset which reduce ambiguity in analyzing the data"
   ]
  },
  {
   "cell_type": "code",
   "execution_count": 21,
   "metadata": {},
   "outputs": [],
   "source": [
    "# Removing Duplicate data from dataset \n",
    "df.drop_duplicates(inplace = True)"
   ]
  },
  {
   "cell_type": "code",
   "execution_count": 22,
   "metadata": {},
   "outputs": [
    {
     "data": {
      "text/plain": [
       "(291, 12)"
      ]
     },
     "execution_count": 22,
     "metadata": {},
     "output_type": "execute_result"
    }
   ],
   "source": [
    "df.shape"
   ]
  },
  {
   "cell_type": "markdown",
   "metadata": {},
   "source": [
    "## **Plots**"
   ]
  },
  {
   "cell_type": "code",
   "execution_count": 23,
   "metadata": {},
   "outputs": [
    {
     "data": {
      "text/plain": [
       "<Axes: xlabel='Marital Status', ylabel='count'>"
      ]
     },
     "execution_count": 23,
     "metadata": {},
     "output_type": "execute_result"
    },
    {
     "data": {
      "image/png": "[encoded data removed]",
      "text/plain": [
       "<Figure size 640x480 with 1 Axes>"
      ]
     },
     "metadata": {},
     "output_type": "display_data"
    }
   ],
   "source": [
    "# Plotting to understand about \"Marital Status\" Column\n",
    "sns.countplot(x = df['Marital Status'])"
   ]
  },
  {
   "cell_type": "markdown",
   "metadata": {},
   "source": [
    "Here get insights on population whether they're are married, Single or Prefer not to declare their marital status"
   ]
  },
  {
   "cell_type": "code",
   "execution_count": 24,
   "metadata": {},
   "outputs": [
    {
     "data": {
      "text/plain": [
       "<Axes: xlabel='Gender', ylabel='count'>"
      ]
     },
     "execution_count": 24,
     "metadata": {},
     "output_type": "execute_result"
    },
    {
     "data": {
      "image/png": "[encoded data removed]",
      "text/plain": [
       "<Figure size 640x480 with 1 Axes>"
      ]
     },
     "metadata": {},
     "output_type": "display_data"
    }
   ],
   "source": [
    "# Plotting to understand about \"Gender\" Column\n",
    "sns.countplot(x = df['Gender'])"
   ]
  },
  {
   "cell_type": "code",
   "execution_count": 25,
   "metadata": {},
   "outputs": [
    {
     "data": {
      "text/html": [
       "<div>\n",
       "<style scoped>\n",
       "    .dataframe tbody tr th:only-of-type {\n",
       "        vertical-align: middle;\n",
       "    }\n",
       "\n",
       "    .dataframe tbody tr th {\n",
       "        vertical-align: top;\n",
       "    }\n",
       "\n",
       "    .dataframe thead th {\n",
       "        text-align: right;\n",
       "    }\n",
       "</style>\n",
       "<table border=\"1\" class=\"dataframe\">\n",
       "  <thead>\n",
       "    <tr style=\"text-align: right;\">\n",
       "      <th></th>\n",
       "      <th>order_status</th>\n",
       "      <th>Monthly Income</th>\n",
       "      <th>latitude</th>\n",
       "      <th>Marital Status</th>\n",
       "      <th>Gender</th>\n",
       "      <th>employment_status</th>\n",
       "      <th>Family size</th>\n",
       "      <th>Reviews</th>\n",
       "      <th>Pin code</th>\n",
       "      <th>Age</th>\n",
       "      <th>longitude</th>\n",
       "      <th>Educational Qualifications</th>\n",
       "    </tr>\n",
       "  </thead>\n",
       "  <tbody>\n",
       "    <tr>\n",
       "      <th>0</th>\n",
       "      <td>Yes</td>\n",
       "      <td>25001 to 50000</td>\n",
       "      <td>13.0262</td>\n",
       "      <td>Married</td>\n",
       "      <td>Male</td>\n",
       "      <td>Employee</td>\n",
       "      <td>5.0</td>\n",
       "      <td>Positive</td>\n",
       "      <td>560045</td>\n",
       "      <td>28.0</td>\n",
       "      <td>77.6200</td>\n",
       "      <td>Post Graduate</td>\n",
       "    </tr>\n",
       "    <tr>\n",
       "      <th>1</th>\n",
       "      <td>Yes</td>\n",
       "      <td>No Income</td>\n",
       "      <td>12.9770</td>\n",
       "      <td>Single</td>\n",
       "      <td>Male</td>\n",
       "      <td>Student</td>\n",
       "      <td>NaN</td>\n",
       "      <td>Positive</td>\n",
       "      <td>560009</td>\n",
       "      <td>NaN</td>\n",
       "      <td>77.5773</td>\n",
       "      <td>Post Graduate</td>\n",
       "    </tr>\n",
       "    <tr>\n",
       "      <th>2</th>\n",
       "      <td>Yes</td>\n",
       "      <td>No Income</td>\n",
       "      <td>12.9770</td>\n",
       "      <td>Single</td>\n",
       "      <td>Female</td>\n",
       "      <td>Student</td>\n",
       "      <td>NaN</td>\n",
       "      <td>Positive</td>\n",
       "      <td>560009</td>\n",
       "      <td>NaN</td>\n",
       "      <td>77.5773</td>\n",
       "      <td>Post Graduate</td>\n",
       "    </tr>\n",
       "    <tr>\n",
       "      <th>3</th>\n",
       "      <td>Yes</td>\n",
       "      <td>No Income</td>\n",
       "      <td>13.0019</td>\n",
       "      <td>Single</td>\n",
       "      <td>Female</td>\n",
       "      <td>Student</td>\n",
       "      <td>NaN</td>\n",
       "      <td>Positive</td>\n",
       "      <td>560003</td>\n",
       "      <td>NaN</td>\n",
       "      <td>77.5713</td>\n",
       "      <td>Post Graduate</td>\n",
       "    </tr>\n",
       "    <tr>\n",
       "      <th>4</th>\n",
       "      <td>Yes</td>\n",
       "      <td>More than 50000</td>\n",
       "      <td>13.0626</td>\n",
       "      <td>Married</td>\n",
       "      <td>Male</td>\n",
       "      <td>Self Employeed</td>\n",
       "      <td>NaN</td>\n",
       "      <td>Positive</td>\n",
       "      <td>560015</td>\n",
       "      <td>NaN</td>\n",
       "      <td>77.5284</td>\n",
       "      <td>School</td>\n",
       "    </tr>\n",
       "  </tbody>\n",
       "</table>\n",
       "</div>"
      ],
      "text/plain": [
       "  order_status   Monthly Income  latitude Marital Status  Gender  \\\n",
       "0          Yes   25001 to 50000   13.0262        Married    Male   \n",
       "1          Yes        No Income   12.9770         Single    Male   \n",
       "2          Yes        No Income   12.9770         Single  Female   \n",
       "3          Yes        No Income   13.0019         Single  Female   \n",
       "4          Yes  More than 50000   13.0626        Married    Male   \n",
       "\n",
       "  employment_status  Family size   Reviews  Pin code   Age  longitude  \\\n",
       "0          Employee          5.0  Positive    560045  28.0    77.6200   \n",
       "1           Student          NaN  Positive    560009   NaN    77.5773   \n",
       "2           Student          NaN  Positive    560009   NaN    77.5773   \n",
       "3           Student          NaN  Positive    560003   NaN    77.5713   \n",
       "4    Self Employeed          NaN  Positive    560015   NaN    77.5284   \n",
       "\n",
       "  Educational Qualifications  \n",
       "0              Post Graduate  \n",
       "1              Post Graduate  \n",
       "2              Post Graduate  \n",
       "3              Post Graduate  \n",
       "4                     School  "
      ]
     },
     "execution_count": 25,
     "metadata": {},
     "output_type": "execute_result"
    }
   ],
   "source": [
    "df.head()"
   ]
  },
  {
   "cell_type": "code",
   "execution_count": 26,
   "metadata": {},
   "outputs": [
    {
     "data": {
      "text/plain": [
       "<Axes: xlabel='Gender', ylabel='Age'>"
      ]
     },
     "execution_count": 26,
     "metadata": {},
     "output_type": "execute_result"
    },
    {
     "data": {
      "image/png": "[encoded data removed]",
      "text/plain": [
       "<Figure size 640x480 with 1 Axes>"
      ]
     },
     "metadata": {},
     "output_type": "display_data"
    }
   ],
   "source": [
    "# Plotting to understand about \"Gender\" and \"Marital Status\" Column for detecting any outlier and its range.\n",
    "# Age (Numerical) and gender (Categorical)\n",
    "\n",
    "sns.boxplot(x = df['Gender'], y = df['Age'], hue=df['Marital Status'])"
   ]
  },
  {
   "cell_type": "markdown",
   "metadata": {},
   "source": [
    "From above plot we can understand demographics about Gender with their Marital Status and their ranges in each respective reagion"
   ]
  },
  {
   "cell_type": "markdown",
   "metadata": {},
   "source": [
    "## **Data Cleaning**"
   ]
  },
  {
   "cell_type": "code",
   "execution_count": 27,
   "metadata": {},
   "outputs": [
    {
     "data": {
      "text/plain": [
       "order_status                   0\n",
       "Monthly Income                 0\n",
       "latitude                       0\n",
       "Marital Status                 0\n",
       "Gender                         0\n",
       "employment_status              0\n",
       "Family size                   18\n",
       "Reviews                        0\n",
       "Pin code                       0\n",
       "Age                           18\n",
       "longitude                      0\n",
       "Educational Qualifications     0\n",
       "dtype: int64"
      ]
     },
     "execution_count": 27,
     "metadata": {},
     "output_type": "execute_result"
    }
   ],
   "source": [
    "df.isnull().sum()"
   ]
  },
  {
   "cell_type": "code",
   "execution_count": 29,
   "metadata": {},
   "outputs": [
    {
     "data": {
      "text/plain": [
       "3.0    83\n",
       "2.0    72\n",
       "4.0    43\n",
       "5.0    35\n",
       "6.0    23\n",
       "1.0    17\n",
       "Name: Family size, dtype: int64"
      ]
     },
     "execution_count": 29,
     "metadata": {},
     "output_type": "execute_result"
    }
   ],
   "source": [
    "# Finding unique counts in 'Family Size' column\n",
    "df['Family size'].value_counts()"
   ]
  },
  {
   "cell_type": "markdown",
   "metadata": {},
   "source": [
    "The above code reflects that there are major number of families having 3 members in dataset followed by 2 members and so on. "
   ]
  },
  {
   "cell_type": "code",
   "execution_count": 30,
   "metadata": {},
   "outputs": [],
   "source": [
    "# Changing the data type of family size to category/int as there could not be any family as float data type\n",
    "\n",
    "df['Family size'] = df['Family size'].astype('category')  "
   ]
  },
  {
   "cell_type": "code",
   "execution_count": 31,
   "metadata": {},
   "outputs": [
    {
     "name": "stdout",
     "output_type": "stream",
     "text": [
      "<class 'pandas.core.series.Series'>\n",
      "Int64Index: 291 entries, 0 to 386\n",
      "Series name: Family size\n",
      "Non-Null Count  Dtype   \n",
      "--------------  -----   \n",
      "273 non-null    category\n",
      "dtypes: category(1)\n",
      "memory usage: 2.8 KB\n"
     ]
    }
   ],
   "source": [
    "df['Family size'].info()"
   ]
  },
  {
   "cell_type": "markdown",
   "metadata": {},
   "source": [
    "## **Imputation Methodologies**"
   ]
  },
  {
   "cell_type": "markdown",
   "metadata": {},
   "source": [
    "### **Filling missing values using Mean, Median and Mode (Univariate Analysis)**"
   ]
  },
  {
   "cell_type": "code",
   "execution_count": 34,
   "metadata": {},
   "outputs": [],
   "source": [
    "# Craeting 3 more copies of dataset for performing imputation on those and then copying back to original dataset \n",
    "df_mean = df.copy()\n",
    "df_median = df.copy()\n",
    "df_mode = df.copy()"
   ]
  },
  {
   "cell_type": "markdown",
   "metadata": {},
   "source": [
    "#### **1. Filling missing values using ***Mean*** methodology in df_mean**"
   ]
  },
  {
   "cell_type": "code",
   "execution_count": 36,
   "metadata": {},
   "outputs": [
    {
     "data": {
      "text/html": [
       "<div>\n",
       "<style scoped>\n",
       "    .dataframe tbody tr th:only-of-type {\n",
       "        vertical-align: middle;\n",
       "    }\n",
       "\n",
       "    .dataframe tbody tr th {\n",
       "        vertical-align: top;\n",
       "    }\n",
       "\n",
       "    .dataframe thead th {\n",
       "        text-align: right;\n",
       "    }\n",
       "</style>\n",
       "<table border=\"1\" class=\"dataframe\">\n",
       "  <thead>\n",
       "    <tr style=\"text-align: right;\">\n",
       "      <th></th>\n",
       "      <th>order_status</th>\n",
       "      <th>Monthly Income</th>\n",
       "      <th>latitude</th>\n",
       "      <th>Marital Status</th>\n",
       "      <th>Gender</th>\n",
       "      <th>employment_status</th>\n",
       "      <th>Family size</th>\n",
       "      <th>Reviews</th>\n",
       "      <th>Pin code</th>\n",
       "      <th>Age</th>\n",
       "      <th>longitude</th>\n",
       "      <th>Educational Qualifications</th>\n",
       "    </tr>\n",
       "  </thead>\n",
       "  <tbody>\n",
       "    <tr>\n",
       "      <th>0</th>\n",
       "      <td>Yes</td>\n",
       "      <td>25001 to 50000</td>\n",
       "      <td>13.0262</td>\n",
       "      <td>Married</td>\n",
       "      <td>Male</td>\n",
       "      <td>Employee</td>\n",
       "      <td>5.0</td>\n",
       "      <td>Positive</td>\n",
       "      <td>560045</td>\n",
       "      <td>28.0</td>\n",
       "      <td>77.6200</td>\n",
       "      <td>Post Graduate</td>\n",
       "    </tr>\n",
       "    <tr>\n",
       "      <th>1</th>\n",
       "      <td>Yes</td>\n",
       "      <td>No Income</td>\n",
       "      <td>12.9770</td>\n",
       "      <td>Single</td>\n",
       "      <td>Male</td>\n",
       "      <td>Student</td>\n",
       "      <td>NaN</td>\n",
       "      <td>Positive</td>\n",
       "      <td>560009</td>\n",
       "      <td>NaN</td>\n",
       "      <td>77.5773</td>\n",
       "      <td>Post Graduate</td>\n",
       "    </tr>\n",
       "    <tr>\n",
       "      <th>2</th>\n",
       "      <td>Yes</td>\n",
       "      <td>No Income</td>\n",
       "      <td>12.9770</td>\n",
       "      <td>Single</td>\n",
       "      <td>Female</td>\n",
       "      <td>Student</td>\n",
       "      <td>NaN</td>\n",
       "      <td>Positive</td>\n",
       "      <td>560009</td>\n",
       "      <td>NaN</td>\n",
       "      <td>77.5773</td>\n",
       "      <td>Post Graduate</td>\n",
       "    </tr>\n",
       "    <tr>\n",
       "      <th>3</th>\n",
       "      <td>Yes</td>\n",
       "      <td>No Income</td>\n",
       "      <td>13.0019</td>\n",
       "      <td>Single</td>\n",
       "      <td>Female</td>\n",
       "      <td>Student</td>\n",
       "      <td>NaN</td>\n",
       "      <td>Positive</td>\n",
       "      <td>560003</td>\n",
       "      <td>NaN</td>\n",
       "      <td>77.5713</td>\n",
       "      <td>Post Graduate</td>\n",
       "    </tr>\n",
       "    <tr>\n",
       "      <th>4</th>\n",
       "      <td>Yes</td>\n",
       "      <td>More than 50000</td>\n",
       "      <td>13.0626</td>\n",
       "      <td>Married</td>\n",
       "      <td>Male</td>\n",
       "      <td>Self Employeed</td>\n",
       "      <td>NaN</td>\n",
       "      <td>Positive</td>\n",
       "      <td>560015</td>\n",
       "      <td>NaN</td>\n",
       "      <td>77.5284</td>\n",
       "      <td>School</td>\n",
       "    </tr>\n",
       "  </tbody>\n",
       "</table>\n",
       "</div>"
      ],
      "text/plain": [
       "  order_status   Monthly Income  latitude Marital Status  Gender  \\\n",
       "0          Yes   25001 to 50000   13.0262        Married    Male   \n",
       "1          Yes        No Income   12.9770         Single    Male   \n",
       "2          Yes        No Income   12.9770         Single  Female   \n",
       "3          Yes        No Income   13.0019         Single  Female   \n",
       "4          Yes  More than 50000   13.0626        Married    Male   \n",
       "\n",
       "  employment_status Family size   Reviews  Pin code   Age  longitude  \\\n",
       "0          Employee         5.0  Positive    560045  28.0    77.6200   \n",
       "1           Student         NaN  Positive    560009   NaN    77.5773   \n",
       "2           Student         NaN  Positive    560009   NaN    77.5773   \n",
       "3           Student         NaN  Positive    560003   NaN    77.5713   \n",
       "4    Self Employeed         NaN  Positive    560015   NaN    77.5284   \n",
       "\n",
       "  Educational Qualifications  \n",
       "0              Post Graduate  \n",
       "1              Post Graduate  \n",
       "2              Post Graduate  \n",
       "3              Post Graduate  \n",
       "4                     School  "
      ]
     },
     "execution_count": 36,
     "metadata": {},
     "output_type": "execute_result"
    }
   ],
   "source": [
    "df_mean.head()"
   ]
  },
  {
   "cell_type": "code",
   "execution_count": 37,
   "metadata": {},
   "outputs": [
    {
     "data": {
      "text/plain": [
       "order_status                   0\n",
       "Monthly Income                 0\n",
       "latitude                       0\n",
       "Marital Status                 0\n",
       "Gender                         0\n",
       "employment_status              0\n",
       "Family size                   18\n",
       "Reviews                        0\n",
       "Pin code                       0\n",
       "Age                           18\n",
       "longitude                      0\n",
       "Educational Qualifications     0\n",
       "dtype: int64"
      ]
     },
     "execution_count": 37,
     "metadata": {},
     "output_type": "execute_result"
    }
   ],
   "source": [
    "df_mean.isna().sum()"
   ]
  },
  {
   "cell_type": "markdown",
   "metadata": {},
   "source": [
    "Here with help of mean imputation we'll fill mean values of age in 'Age' column which consist of 18 null values"
   ]
  },
  {
   "cell_type": "code",
   "execution_count": 38,
   "metadata": {},
   "outputs": [
    {
     "data": {
      "text/plain": [
       "24.681318681318682"
      ]
     },
     "execution_count": 38,
     "metadata": {},
     "output_type": "execute_result"
    }
   ],
   "source": [
    "# Using Pandas to find mean value of Age column\n",
    "df_mean['Age'].mean()"
   ]
  },
  {
   "cell_type": "code",
   "execution_count": 40,
   "metadata": {},
   "outputs": [
    {
     "data": {
      "text/plain": [
       "25"
      ]
     },
     "execution_count": 40,
     "metadata": {},
     "output_type": "execute_result"
    }
   ],
   "source": [
    "# Rounding the mean value to next integer, as age can't be in decimals\n",
    "mean_values =round(df_mean['Age'].mean())\n",
    "mean_values"
   ]
  },
  {
   "cell_type": "code",
   "execution_count": 41,
   "metadata": {},
   "outputs": [
    {
     "data": {
      "text/plain": [
       "18"
      ]
     },
     "execution_count": 41,
     "metadata": {},
     "output_type": "execute_result"
    }
   ],
   "source": [
    "# 'Age' Column before filling mean values\n",
    "df_mean['Age'].isnull().sum()"
   ]
  },
  {
   "cell_type": "code",
   "execution_count": 42,
   "metadata": {},
   "outputs": [],
   "source": [
    "# Filling mean values in null values using 'fillna' from pandas\n",
    "df_mean['Age'] = df_mean['Age'].fillna(mean_values)"
   ]
  },
  {
   "cell_type": "code",
   "execution_count": 43,
   "metadata": {},
   "outputs": [
    {
     "data": {
      "text/plain": [
       "0"
      ]
     },
     "execution_count": 43,
     "metadata": {},
     "output_type": "execute_result"
    }
   ],
   "source": [
    "# Null values in dataset after filling mean values in 'Age' Column\n",
    "df_mean['Age'].isnull().sum()"
   ]
  },
  {
   "cell_type": "code",
   "execution_count": 49,
   "metadata": {},
   "outputs": [
    {
     "name": "stderr",
     "output_type": "stream",
     "text": [
      "C:\\Users\\RKC\\AppData\\Local\\Temp\\ipykernel_3616\\1658161300.py:5: UserWarning: \n",
      "\n",
      "`distplot` is a deprecated function and will be removed in seaborn v0.14.0.\n",
      "\n",
      "Please adapt your code to use either `displot` (a figure-level function with\n",
      "similar flexibility) or `histplot` (an axes-level function for histograms).\n",
      "\n",
      "For a guide to updating your code to use the new functions, please see\n",
      "https://gist.github.com/mwaskom/de44147ed2974457ad6372750bbe5751\n",
      "\n",
      "  sns.distplot(x = df['Age'], ax=ax[0])\n",
      "C:\\Users\\RKC\\AppData\\Local\\Temp\\ipykernel_3616\\1658161300.py:8: UserWarning: \n",
      "\n",
      "`distplot` is a deprecated function and will be removed in seaborn v0.14.0.\n",
      "\n",
      "Please adapt your code to use either `displot` (a figure-level function with\n",
      "similar flexibility) or `histplot` (an axes-level function for histograms).\n",
      "\n",
      "For a guide to updating your code to use the new functions, please see\n",
      "https://gist.github.com/mwaskom/de44147ed2974457ad6372750bbe5751\n",
      "\n",
      "  sns.distplot(x = df_mean['Age'], ax=ax[1])\n"
     ]
    },
    {
     "data": {
      "image/png": "[encoded data removed]",
      "text/plain": [
       "<Figure size 1300x500 with 2 Axes>"
      ]
     },
     "metadata": {},
     "output_type": "display_data"
    }
   ],
   "source": [
    "# Plotting distribution plot with mean values imputed in 2nd plot \n",
    "\n",
    "fig, ax  = plt.subplots(nrows = 1, ncols=2, figsize=(13,5))\n",
    "\n",
    "sns.distplot(x = df['Age'], ax=ax[0])\n",
    "plt.title(label=\"Normal Dataset Distribution in Age column\")\n",
    "\n",
    "sns.distplot(x = df_mean['Age'], ax=ax[1])\n",
    "plt.title(label=\"Imputed Dataset Distribution with Mean values in Age column\")\n",
    "plt.show()"
   ]
  },
  {
   "cell_type": "markdown",
   "metadata": {},
   "source": [
    "#### **Filling missing values using ***Median*** methodology in df_mean**"
   ]
  },
  {
   "cell_type": "code",
   "execution_count": 50,
   "metadata": {},
   "outputs": [
    {
     "name": "stdout",
     "output_type": "stream",
     "text": [
      "<class 'pandas.core.frame.DataFrame'>\n",
      "Int64Index: 291 entries, 0 to 386\n",
      "Data columns (total 12 columns):\n",
      " #   Column                      Non-Null Count  Dtype   \n",
      "---  ------                      --------------  -----   \n",
      " 0   order_status                291 non-null    object  \n",
      " 1   Monthly Income              291 non-null    object  \n",
      " 2   latitude                    291 non-null    float64 \n",
      " 3   Marital Status              291 non-null    object  \n",
      " 4   Gender                      291 non-null    object  \n",
      " 5   employment_status           291 non-null    object  \n",
      " 6   Family size                 273 non-null    category\n",
      " 7   Reviews                     291 non-null    object  \n",
      " 8   Pin code                    291 non-null    int64   \n",
      " 9   Age                         273 non-null    float64 \n",
      " 10  longitude                   291 non-null    float64 \n",
      " 11  Educational Qualifications  291 non-null    object  \n",
      "dtypes: category(1), float64(3), int64(1), object(7)\n",
      "memory usage: 27.8+ KB\n"
     ]
    }
   ],
   "source": [
    "df_median.info()"
   ]
  },
  {
   "cell_type": "markdown",
   "metadata": {},
   "source": [
    "Values before filling"
   ]
  },
  {
   "cell_type": "code",
   "execution_count": 51,
   "metadata": {},
   "outputs": [
    {
     "data": {
      "text/plain": [
       "18"
      ]
     },
     "execution_count": 51,
     "metadata": {},
     "output_type": "execute_result"
    }
   ],
   "source": [
    "df_median['Age'].isna().sum()"
   ]
  },
  {
   "cell_type": "code",
   "execution_count": 52,
   "metadata": {},
   "outputs": [
    {
     "data": {
      "text/plain": [
       "24"
      ]
     },
     "execution_count": 52,
     "metadata": {},
     "output_type": "execute_result"
    }
   ],
   "source": [
    "median_values = int(df_median['Age'].median())\n",
    "median_values"
   ]
  },
  {
   "cell_type": "code",
   "execution_count": 53,
   "metadata": {},
   "outputs": [],
   "source": [
    "df_median['Age'] = df_median['Age'].fillna(median_values)"
   ]
  },
  {
   "cell_type": "markdown",
   "metadata": {},
   "source": [
    "Values after filling"
   ]
  },
  {
   "cell_type": "code",
   "execution_count": 54,
   "metadata": {},
   "outputs": [
    {
     "data": {
      "text/plain": [
       "0"
      ]
     },
     "execution_count": 54,
     "metadata": {},
     "output_type": "execute_result"
    }
   ],
   "source": [
    "df_median['Age'].isna().sum()"
   ]
  },
  {
   "cell_type": "code",
   "execution_count": 55,
   "metadata": {},
   "outputs": [
    {
     "name": "stderr",
     "output_type": "stream",
     "text": [
      "C:\\Users\\RKC\\AppData\\Local\\Temp\\ipykernel_3616\\1999908238.py:3: UserWarning: \n",
      "\n",
      "`distplot` is a deprecated function and will be removed in seaborn v0.14.0.\n",
      "\n",
      "Please adapt your code to use either `displot` (a figure-level function with\n",
      "similar flexibility) or `histplot` (an axes-level function for histograms).\n",
      "\n",
      "For a guide to updating your code to use the new functions, please see\n",
      "https://gist.github.com/mwaskom/de44147ed2974457ad6372750bbe5751\n",
      "\n",
      "  sns.distplot(x = df['Age'], ax=ax[0] )\n",
      "C:\\Users\\RKC\\AppData\\Local\\Temp\\ipykernel_3616\\1999908238.py:5: UserWarning: \n",
      "\n",
      "`distplot` is a deprecated function and will be removed in seaborn v0.14.0.\n",
      "\n",
      "Please adapt your code to use either `displot` (a figure-level function with\n",
      "similar flexibility) or `histplot` (an axes-level function for histograms).\n",
      "\n",
      "For a guide to updating your code to use the new functions, please see\n",
      "https://gist.github.com/mwaskom/de44147ed2974457ad6372750bbe5751\n",
      "\n",
      "  sns.distplot(x = df_median['Age'], ax=ax[1])\n"
     ]
    },
    {
     "data": {
      "text/plain": [
       "<Axes: ylabel='Density'>"
      ]
     },
     "execution_count": 55,
     "metadata": {},
     "output_type": "execute_result"
    },
    {
     "data": {
      "image/png": "[encoded data removed]",
      "text/plain": [
       "<Figure size 1300x500 with 2 Axes>"
      ]
     },
     "metadata": {},
     "output_type": "display_data"
    }
   ],
   "source": [
    "fig, ax  = plt.subplots(nrows = 1, ncols=2, figsize=(13,5))\n",
    "\n",
    "sns.distplot(x = df['Age'], ax=ax[0] )\n",
    "\n",
    "sns.distplot(x = df_median['Age'], ax=ax[1])"
   ]
  },
  {
   "cell_type": "markdown",
   "metadata": {},
   "source": [
    "#### **Filling missing values using ***Mode*** methodology in df_mode**"
   ]
  },
  {
   "cell_type": "code",
   "execution_count": 56,
   "metadata": {},
   "outputs": [
    {
     "data": {
      "text/plain": [
       "order_status                   0\n",
       "Monthly Income                 0\n",
       "latitude                       0\n",
       "Marital Status                 0\n",
       "Gender                         0\n",
       "employment_status              0\n",
       "Family size                   18\n",
       "Reviews                        0\n",
       "Pin code                       0\n",
       "Age                           18\n",
       "longitude                      0\n",
       "Educational Qualifications     0\n",
       "dtype: int64"
      ]
     },
     "execution_count": 56,
     "metadata": {},
     "output_type": "execute_result"
    }
   ],
   "source": [
    "df_mode.isna().sum()"
   ]
  },
  {
   "cell_type": "code",
   "execution_count": 57,
   "metadata": {},
   "outputs": [
    {
     "data": {
      "text/plain": [
       "3"
      ]
     },
     "execution_count": 57,
     "metadata": {},
     "output_type": "execute_result"
    }
   ],
   "source": [
    "mode_values = int(df_mode['Family size'].mode())\n",
    "mode_values"
   ]
  },
  {
   "cell_type": "code",
   "execution_count": 58,
   "metadata": {},
   "outputs": [],
   "source": [
    "df_mode['Family size'] = df_mode['Family size'].fillna(int(df_mode['Family size'].mode()))"
   ]
  },
  {
   "cell_type": "code",
   "execution_count": 59,
   "metadata": {},
   "outputs": [
    {
     "data": {
      "text/plain": [
       "0"
      ]
     },
     "execution_count": 59,
     "metadata": {},
     "output_type": "execute_result"
    }
   ],
   "source": [
    "df_mode['Family size'].isna().sum()"
   ]
  },
  {
   "cell_type": "code",
   "execution_count": 60,
   "metadata": {},
   "outputs": [
    {
     "data": {
      "text/plain": [
       "order_status                   0\n",
       "Monthly Income                 0\n",
       "latitude                       0\n",
       "Marital Status                 0\n",
       "Gender                         0\n",
       "employment_status              0\n",
       "Family size                    0\n",
       "Reviews                        0\n",
       "Pin code                       0\n",
       "Age                           18\n",
       "longitude                      0\n",
       "Educational Qualifications     0\n",
       "dtype: int64"
      ]
     },
     "execution_count": 60,
     "metadata": {},
     "output_type": "execute_result"
    }
   ],
   "source": [
    "df_mode.isna().sum()"
   ]
  },
  {
   "cell_type": "markdown",
   "metadata": {},
   "source": [
    "### **Filling main dataset 'df' with Mode values in place of null values for 'Family Size' Column**"
   ]
  },
  {
   "cell_type": "code",
   "execution_count": 61,
   "metadata": {},
   "outputs": [
    {
     "data": {
      "text/plain": [
       "order_status                   0\n",
       "Monthly Income                 0\n",
       "latitude                       0\n",
       "Marital Status                 0\n",
       "Gender                         0\n",
       "employment_status              0\n",
       "Family size                   18\n",
       "Reviews                        0\n",
       "Pin code                       0\n",
       "Age                           18\n",
       "longitude                      0\n",
       "Educational Qualifications     0\n",
       "dtype: int64"
      ]
     },
     "execution_count": 61,
     "metadata": {},
     "output_type": "execute_result"
    }
   ],
   "source": [
    "df.isna().sum()"
   ]
  },
  {
   "cell_type": "code",
   "execution_count": 62,
   "metadata": {},
   "outputs": [
    {
     "data": {
      "text/plain": [
       "3"
      ]
     },
     "execution_count": 62,
     "metadata": {},
     "output_type": "execute_result"
    }
   ],
   "source": [
    "mode_values = int(df['Family size'].mode()[0])\n",
    "mode_values"
   ]
  },
  {
   "cell_type": "code",
   "execution_count": 63,
   "metadata": {},
   "outputs": [],
   "source": [
    "df['Family size'] = df['Family size'].fillna(int(df['Family size'].mode()[0]))"
   ]
  },
  {
   "cell_type": "code",
   "execution_count": 64,
   "metadata": {},
   "outputs": [
    {
     "data": {
      "text/plain": [
       "0"
      ]
     },
     "execution_count": 64,
     "metadata": {},
     "output_type": "execute_result"
    }
   ],
   "source": [
    "df['Family size'].isna().sum()"
   ]
  },
  {
   "cell_type": "code",
   "execution_count": 65,
   "metadata": {},
   "outputs": [
    {
     "data": {
      "text/plain": [
       "order_status                   0\n",
       "Monthly Income                 0\n",
       "latitude                       0\n",
       "Marital Status                 0\n",
       "Gender                         0\n",
       "employment_status              0\n",
       "Family size                    0\n",
       "Reviews                        0\n",
       "Pin code                       0\n",
       "Age                           18\n",
       "longitude                      0\n",
       "Educational Qualifications     0\n",
       "dtype: int64"
      ]
     },
     "execution_count": 65,
     "metadata": {},
     "output_type": "execute_result"
    }
   ],
   "source": [
    "df.isna().sum()"
   ]
  },
  {
   "cell_type": "markdown",
   "metadata": {},
   "source": [
    "# **Handling Outliers**\n",
    "\n",
    "Methods for detecting Outliers :- \n",
    "- Z-Score \n",
    "- IQR \n",
    "- Percentile \n",
    "\n",
    "Methods for Treating outliers :- \n",
    "1. Trimming \n",
    "2. Capping"
   ]
  },
  {
   "cell_type": "code",
   "execution_count": 66,
   "metadata": {},
   "outputs": [
    {
     "data": {
      "text/plain": [
       "<Axes: >"
      ]
     },
     "execution_count": 66,
     "metadata": {},
     "output_type": "execute_result"
    },
    {
     "data": {
      "image/png": "[encoded data removed]",
      "text/plain": [
       "<Figure size 640x480 with 1 Axes>"
      ]
     },
     "metadata": {},
     "output_type": "display_data"
    }
   ],
   "source": [
    "# Finding outliers in 'Age' column\n",
    "df['Age'].plot(kind = 'box')"
   ]
  },
  {
   "cell_type": "code",
   "execution_count": 68,
   "metadata": {},
   "outputs": [],
   "source": [
    "# Copying a old dataset named to df_outliers for performing operations on outliers in dataset.\n",
    "df_outliers = df.copy()"
   ]
  },
  {
   "cell_type": "markdown",
   "metadata": {},
   "source": [
    "## **Treating Outliers**\n",
    "\n",
    "- Trimming - Remove all the outliers \n",
    "- Capping - Capping outliers with Lower limit and upper limit"
   ]
  },
  {
   "cell_type": "code",
   "execution_count": 69,
   "metadata": {},
   "outputs": [
    {
     "data": {
      "text/plain": [
       "count    273.000000\n",
       "mean      24.681319\n",
       "std        3.023970\n",
       "min       18.000000\n",
       "25%       23.000000\n",
       "50%       24.000000\n",
       "75%       26.000000\n",
       "max       33.000000\n",
       "Name: Age, dtype: float64"
      ]
     },
     "execution_count": 69,
     "metadata": {},
     "output_type": "execute_result"
    }
   ],
   "source": [
    "# Statstical values of \"Age\" column \n",
    "df_outliers.describe()['Age']"
   ]
  },
  {
   "cell_type": "markdown",
   "metadata": {},
   "source": [
    "IQR=\n",
    "\n",
    "        IQR = Q3 - Q1 \n",
    "\n",
    "\n",
    "Lower Limit = \n",
    "        \n",
    "        Q1 - 1.5 * IQR\n",
    "\n",
    "Upper Limit = \n",
    "        \n",
    "        Q3 + 1.5 * IQR"
   ]
  },
  {
   "cell_type": "code",
   "execution_count": 70,
   "metadata": {},
   "outputs": [
    {
     "name": "stdout",
     "output_type": "stream",
     "text": [
      "Q1 =  23.0\n",
      "Q3 =  26.0\n"
     ]
    }
   ],
   "source": [
    "# Finding Q1 and Q3 for finding outlier using IQR method\n",
    "Q1 = df_outliers.describe()['Age']['25%']\n",
    "\n",
    "print(\"Q1 = \", Q1)\n",
    "\n",
    "Q3 = df_outliers.describe()['Age']['75%']\n",
    "\n",
    "print(\"Q3 = \", Q3)"
   ]
  },
  {
   "cell_type": "markdown",
   "metadata": {},
   "source": [
    "    IQR = Q3 - Q1 "
   ]
  },
  {
   "cell_type": "code",
   "execution_count": 72,
   "metadata": {},
   "outputs": [
    {
     "name": "stdout",
     "output_type": "stream",
     "text": [
      "IQR =  3.0\n"
     ]
    }
   ],
   "source": [
    "# Finding IQR\n",
    "IQR = Q3 - Q1\n",
    "print(\"IQR = \", IQR)"
   ]
  },
  {
   "cell_type": "code",
   "execution_count": 73,
   "metadata": {},
   "outputs": [
    {
     "name": "stdout",
     "output_type": "stream",
     "text": [
      "Upper lIMIT = 18.5\n",
      "Upper lIMIT = 30.5\n"
     ]
    }
   ],
   "source": [
    "LL = Q1 - 1.5*IQR\n",
    "\n",
    "print(\"Upper lIMIT =\", LL)\n",
    "\n",
    "UL = Q3 + 1.5*IQR\n",
    "\n",
    "print(\"Upper lIMIT =\", UL)"
   ]
  },
  {
   "cell_type": "markdown",
   "metadata": {},
   "source": [
    "### **Using clip() function to cap all the UL and LL values**"
   ]
  },
  {
   "cell_type": "code",
   "execution_count": 74,
   "metadata": {},
   "outputs": [],
   "source": [
    "df_outliers['Age'] = df_outliers['Age'].clip(LL, UL)"
   ]
  },
  {
   "cell_type": "code",
   "execution_count": 76,
   "metadata": {},
   "outputs": [
    {
     "data": {
      "text/plain": [
       "<Axes: title={'center': 'Capped BoxPlot'}>"
      ]
     },
     "execution_count": 76,
     "metadata": {},
     "output_type": "execute_result"
    },
    {
     "data": {
      "image/png": "[encoded data removed]",
      "text/plain": [
       "<Figure size 1300x500 with 2 Axes>"
      ]
     },
     "metadata": {},
     "output_type": "display_data"
    }
   ],
   "source": [
    "# COmparing Outliers using Capping method for treating outliers with normal outliers detected using Boxplot\n",
    "fig, ax = plt.subplots(nrows = 1, ncols = 2, figsize = (13,5))\n",
    "\n",
    "df['Age'].plot(kind = 'box', ax =ax[0], title=\"Normal BoxPlot\")\n",
    "df_outliers['Age'].plot(kind = 'box', ax=ax[1], title=\"Capped BoxPlot\")"
   ]
  },
  {
   "cell_type": "code",
   "execution_count": 78,
   "metadata": {},
   "outputs": [],
   "source": [
    "# Copying Capped values to main dataset named 'df'\n",
    "df['Age'] = df['Age'].clip(LL, UL)"
   ]
  },
  {
   "cell_type": "code",
   "execution_count": 79,
   "metadata": {},
   "outputs": [],
   "source": [
    "# Filling null values with median of the \"Age\" column\n",
    "df['Age'] = df['Age'].fillna(df['Age'].median())"
   ]
  },
  {
   "cell_type": "code",
   "execution_count": 80,
   "metadata": {},
   "outputs": [
    {
     "data": {
      "text/plain": [
       "order_status                  0\n",
       "Monthly Income                0\n",
       "latitude                      0\n",
       "Marital Status                0\n",
       "Gender                        0\n",
       "employment_status             0\n",
       "Family size                   0\n",
       "Reviews                       0\n",
       "Pin code                      0\n",
       "Age                           0\n",
       "longitude                     0\n",
       "Educational Qualifications    0\n",
       "dtype: int64"
      ]
     },
     "execution_count": 80,
     "metadata": {},
     "output_type": "execute_result"
    }
   ],
   "source": [
    "# Verfying removal of null values in age column \n",
    "df.isna().sum()"
   ]
  },
  {
   "cell_type": "markdown",
   "metadata": {},
   "source": [
    "## **Handling Categorical Values**"
   ]
  },
  {
   "cell_type": "code",
   "execution_count": 81,
   "metadata": {},
   "outputs": [
    {
     "name": "stdout",
     "output_type": "stream",
     "text": [
      "order_status Yes    222\n",
      "No      69\n",
      "Name: order_status, dtype: int64\n",
      "--------------------------------------------\n",
      "Monthly Income No Income          135\n",
      "25001 to 50000      52\n",
      "More than 50000     47\n",
      "10001 to 25000      38\n",
      "Below Rs.10000      19\n",
      "Name: Monthly Income, dtype: int64\n",
      "--------------------------------------------\n",
      "Marital Status Single               195\n",
      "Married               87\n",
      "Prefer not to say      9\n",
      "Name: Marital Status, dtype: int64\n",
      "--------------------------------------------\n",
      "Gender Male      167\n",
      "Female    124\n",
      "Name: Gender, dtype: int64\n",
      "--------------------------------------------\n",
      "employment_status Student           149\n",
      "Employee           95\n",
      "Self Employeed     38\n",
      "House wife          9\n",
      "Name: employment_status, dtype: int64\n",
      "--------------------------------------------\n",
      "Reviews Positive     236\n",
      "Negative      55\n",
      "Name: Reviews, dtype: int64\n",
      "--------------------------------------------\n",
      "Educational Qualifications Graduate         130\n",
      "Post Graduate    127\n",
      "Ph.D              21\n",
      "School            11\n",
      "Uneducated         2\n",
      "Name: Educational Qualifications, dtype: int64\n",
      "--------------------------------------------\n"
     ]
    }
   ],
   "source": [
    "# fetching out columns with 'object' as datatype\n",
    "\n",
    "for i in df:\n",
    "    if df[i].dtype == 'object':\n",
    "        print(i, df[i].value_counts())\n",
    "        print(\"--------------------------------------------\")"
   ]
  },
  {
   "cell_type": "markdown",
   "metadata": {},
   "source": [
    "----"
   ]
  },
  {
   "cell_type": "markdown",
   "metadata": {},
   "source": [
    "#### Segregating columns\n",
    "\n",
    "##### Ordinal : Education, Qualifications, Reviews, Monthly_Income\n",
    "\n",
    "##### Nominal : Employement_Status, Gender, Marital Status, Order_Status\n"
   ]
  },
  {
   "cell_type": "markdown",
   "metadata": {},
   "source": [
    "----"
   ]
  },
  {
   "cell_type": "markdown",
   "metadata": {},
   "source": [
    "### **Conversion of categorical (Nominal) data to Numerical Values**\n",
    "##### **Nominal : Employement_Status, Gender, Marital Status, Order_Status**"
   ]
  },
  {
   "cell_type": "code",
   "execution_count": 82,
   "metadata": {},
   "outputs": [
    {
     "data": {
      "text/plain": [
       "order_status                  0\n",
       "Monthly Income                0\n",
       "latitude                      0\n",
       "Marital Status                0\n",
       "Gender                        0\n",
       "employment_status             0\n",
       "Family size                   0\n",
       "Reviews                       0\n",
       "Pin code                      0\n",
       "Age                           0\n",
       "longitude                     0\n",
       "Educational Qualifications    0\n",
       "dtype: int64"
      ]
     },
     "execution_count": 82,
     "metadata": {},
     "output_type": "execute_result"
    }
   ],
   "source": [
    "df.isna().sum()"
   ]
  },
  {
   "cell_type": "code",
   "execution_count": 83,
   "metadata": {},
   "outputs": [],
   "source": [
    "df = pd.get_dummies(df, columns=['employment_status', 'Gender','Marital Status'], drop_first=True)"
   ]
  },
  {
   "cell_type": "code",
   "execution_count": 84,
   "metadata": {},
   "outputs": [
    {
     "data": {
      "text/html": [
       "<div>\n",
       "<style scoped>\n",
       "    .dataframe tbody tr th:only-of-type {\n",
       "        vertical-align: middle;\n",
       "    }\n",
       "\n",
       "    .dataframe tbody tr th {\n",
       "        vertical-align: top;\n",
       "    }\n",
       "\n",
       "    .dataframe thead th {\n",
       "        text-align: right;\n",
       "    }\n",
       "</style>\n",
       "<table border=\"1\" class=\"dataframe\">\n",
       "  <thead>\n",
       "    <tr style=\"text-align: right;\">\n",
       "      <th></th>\n",
       "      <th>order_status</th>\n",
       "      <th>Monthly Income</th>\n",
       "      <th>latitude</th>\n",
       "      <th>Family size</th>\n",
       "      <th>Reviews</th>\n",
       "      <th>Pin code</th>\n",
       "      <th>Age</th>\n",
       "      <th>longitude</th>\n",
       "      <th>Educational Qualifications</th>\n",
       "      <th>employment_status_House wife</th>\n",
       "      <th>employment_status_Self Employeed</th>\n",
       "      <th>employment_status_Student</th>\n",
       "      <th>Gender_Male</th>\n",
       "      <th>Marital Status_Prefer not to say</th>\n",
       "      <th>Marital Status_Single</th>\n",
       "    </tr>\n",
       "  </thead>\n",
       "  <tbody>\n",
       "    <tr>\n",
       "      <th>0</th>\n",
       "      <td>Yes</td>\n",
       "      <td>25001 to 50000</td>\n",
       "      <td>13.0262</td>\n",
       "      <td>5.0</td>\n",
       "      <td>Positive</td>\n",
       "      <td>560045</td>\n",
       "      <td>28.0</td>\n",
       "      <td>77.6200</td>\n",
       "      <td>Post Graduate</td>\n",
       "      <td>0</td>\n",
       "      <td>0</td>\n",
       "      <td>0</td>\n",
       "      <td>1</td>\n",
       "      <td>0</td>\n",
       "      <td>0</td>\n",
       "    </tr>\n",
       "    <tr>\n",
       "      <th>1</th>\n",
       "      <td>Yes</td>\n",
       "      <td>No Income</td>\n",
       "      <td>12.9770</td>\n",
       "      <td>3.0</td>\n",
       "      <td>Positive</td>\n",
       "      <td>560009</td>\n",
       "      <td>24.0</td>\n",
       "      <td>77.5773</td>\n",
       "      <td>Post Graduate</td>\n",
       "      <td>0</td>\n",
       "      <td>0</td>\n",
       "      <td>1</td>\n",
       "      <td>1</td>\n",
       "      <td>0</td>\n",
       "      <td>1</td>\n",
       "    </tr>\n",
       "    <tr>\n",
       "      <th>2</th>\n",
       "      <td>Yes</td>\n",
       "      <td>No Income</td>\n",
       "      <td>12.9770</td>\n",
       "      <td>3.0</td>\n",
       "      <td>Positive</td>\n",
       "      <td>560009</td>\n",
       "      <td>24.0</td>\n",
       "      <td>77.5773</td>\n",
       "      <td>Post Graduate</td>\n",
       "      <td>0</td>\n",
       "      <td>0</td>\n",
       "      <td>1</td>\n",
       "      <td>0</td>\n",
       "      <td>0</td>\n",
       "      <td>1</td>\n",
       "    </tr>\n",
       "    <tr>\n",
       "      <th>3</th>\n",
       "      <td>Yes</td>\n",
       "      <td>No Income</td>\n",
       "      <td>13.0019</td>\n",
       "      <td>3.0</td>\n",
       "      <td>Positive</td>\n",
       "      <td>560003</td>\n",
       "      <td>24.0</td>\n",
       "      <td>77.5713</td>\n",
       "      <td>Post Graduate</td>\n",
       "      <td>0</td>\n",
       "      <td>0</td>\n",
       "      <td>1</td>\n",
       "      <td>0</td>\n",
       "      <td>0</td>\n",
       "      <td>1</td>\n",
       "    </tr>\n",
       "    <tr>\n",
       "      <th>4</th>\n",
       "      <td>Yes</td>\n",
       "      <td>More than 50000</td>\n",
       "      <td>13.0626</td>\n",
       "      <td>3.0</td>\n",
       "      <td>Positive</td>\n",
       "      <td>560015</td>\n",
       "      <td>24.0</td>\n",
       "      <td>77.5284</td>\n",
       "      <td>School</td>\n",
       "      <td>0</td>\n",
       "      <td>1</td>\n",
       "      <td>0</td>\n",
       "      <td>1</td>\n",
       "      <td>0</td>\n",
       "      <td>0</td>\n",
       "    </tr>\n",
       "  </tbody>\n",
       "</table>\n",
       "</div>"
      ],
      "text/plain": [
       "  order_status   Monthly Income  latitude Family size   Reviews  Pin code  \\\n",
       "0          Yes   25001 to 50000   13.0262         5.0  Positive    560045   \n",
       "1          Yes        No Income   12.9770         3.0  Positive    560009   \n",
       "2          Yes        No Income   12.9770         3.0  Positive    560009   \n",
       "3          Yes        No Income   13.0019         3.0  Positive    560003   \n",
       "4          Yes  More than 50000   13.0626         3.0  Positive    560015   \n",
       "\n",
       "    Age  longitude Educational Qualifications  employment_status_House wife  \\\n",
       "0  28.0    77.6200              Post Graduate                             0   \n",
       "1  24.0    77.5773              Post Graduate                             0   \n",
       "2  24.0    77.5773              Post Graduate                             0   \n",
       "3  24.0    77.5713              Post Graduate                             0   \n",
       "4  24.0    77.5284                     School                             0   \n",
       "\n",
       "   employment_status_Self Employeed  employment_status_Student  Gender_Male  \\\n",
       "0                                 0                          0            1   \n",
       "1                                 0                          1            1   \n",
       "2                                 0                          1            0   \n",
       "3                                 0                          1            0   \n",
       "4                                 1                          0            1   \n",
       "\n",
       "   Marital Status_Prefer not to say  Marital Status_Single  \n",
       "0                                 0                      0  \n",
       "1                                 0                      1  \n",
       "2                                 0                      1  \n",
       "3                                 0                      1  \n",
       "4                                 0                      0  "
      ]
     },
     "execution_count": 84,
     "metadata": {},
     "output_type": "execute_result"
    }
   ],
   "source": [
    "df.head()"
   ]
  },
  {
   "cell_type": "markdown",
   "metadata": {},
   "source": [
    "### **Conversion of categorical (Ordinal) data to Numerical Values**\n",
    "#### **Ordinal : Educational_Qualifications, Reviews, Monthly_Income**"
   ]
  },
  {
   "cell_type": "code",
   "execution_count": 85,
   "metadata": {},
   "outputs": [
    {
     "data": {
      "text/plain": [
       "No Income          135\n",
       "25001 to 50000      52\n",
       "More than 50000     47\n",
       "10001 to 25000      38\n",
       "Below Rs.10000      19\n",
       "Name: Monthly Income, dtype: int64"
      ]
     },
     "execution_count": 85,
     "metadata": {},
     "output_type": "execute_result"
    }
   ],
   "source": [
    "df_median['Monthly Income'].value_counts()"
   ]
  },
  {
   "cell_type": "code",
   "execution_count": 86,
   "metadata": {},
   "outputs": [],
   "source": [
    "# Changing above Monthly Income column values to belwo listed ones.\n",
    "d = {\"No Income\":'Poor',\"Below Rs.10000\":'Low Income' ,\"10001 to 25000\":'Moderate Income', '25001 to 50000':'High Income', 'More than 50000':'Very High Income'}"
   ]
  },
  {
   "cell_type": "markdown",
   "metadata": {},
   "source": [
    "### **Map function**"
   ]
  },
  {
   "cell_type": "code",
   "execution_count": 87,
   "metadata": {},
   "outputs": [],
   "source": [
    "# Changing the column values with map function \n",
    "df['Monthly Income'] = df['Monthly Income'].map(d)"
   ]
  },
  {
   "cell_type": "code",
   "execution_count": 88,
   "metadata": {},
   "outputs": [
    {
     "data": {
      "text/plain": [
       "Poor                135\n",
       "High Income          52\n",
       "Very High Income     47\n",
       "Moderate Income      38\n",
       "Low Income           19\n",
       "Name: Monthly Income, dtype: int64"
      ]
     },
     "execution_count": 88,
     "metadata": {},
     "output_type": "execute_result"
    }
   ],
   "source": [
    "# Verfying the above code\n",
    "df['Monthly Income'].value_counts()"
   ]
  },
  {
   "cell_type": "code",
   "execution_count": 89,
   "metadata": {},
   "outputs": [
    {
     "data": {
      "text/html": [
       "<div>\n",
       "<style scoped>\n",
       "    .dataframe tbody tr th:only-of-type {\n",
       "        vertical-align: middle;\n",
       "    }\n",
       "\n",
       "    .dataframe tbody tr th {\n",
       "        vertical-align: top;\n",
       "    }\n",
       "\n",
       "    .dataframe thead th {\n",
       "        text-align: right;\n",
       "    }\n",
       "</style>\n",
       "<table border=\"1\" class=\"dataframe\">\n",
       "  <thead>\n",
       "    <tr style=\"text-align: right;\">\n",
       "      <th></th>\n",
       "      <th>order_status</th>\n",
       "      <th>Monthly Income</th>\n",
       "      <th>latitude</th>\n",
       "      <th>Family size</th>\n",
       "      <th>Reviews</th>\n",
       "      <th>Pin code</th>\n",
       "      <th>Age</th>\n",
       "      <th>longitude</th>\n",
       "      <th>Educational Qualifications</th>\n",
       "      <th>employment_status_House wife</th>\n",
       "      <th>employment_status_Self Employeed</th>\n",
       "      <th>employment_status_Student</th>\n",
       "      <th>Gender_Male</th>\n",
       "      <th>Marital Status_Prefer not to say</th>\n",
       "      <th>Marital Status_Single</th>\n",
       "    </tr>\n",
       "  </thead>\n",
       "  <tbody>\n",
       "    <tr>\n",
       "      <th>201</th>\n",
       "      <td>Yes</td>\n",
       "      <td>Poor</td>\n",
       "      <td>13.0078</td>\n",
       "      <td>3.0</td>\n",
       "      <td>Positive</td>\n",
       "      <td>560055</td>\n",
       "      <td>24.0</td>\n",
       "      <td>77.5577</td>\n",
       "      <td>Graduate</td>\n",
       "      <td>1</td>\n",
       "      <td>0</td>\n",
       "      <td>0</td>\n",
       "      <td>0</td>\n",
       "      <td>0</td>\n",
       "      <td>0</td>\n",
       "    </tr>\n",
       "    <tr>\n",
       "      <th>357</th>\n",
       "      <td>No</td>\n",
       "      <td>High Income</td>\n",
       "      <td>12.9757</td>\n",
       "      <td>2.0</td>\n",
       "      <td>Negative</td>\n",
       "      <td>560023</td>\n",
       "      <td>26.0</td>\n",
       "      <td>77.5586</td>\n",
       "      <td>Post Graduate</td>\n",
       "      <td>0</td>\n",
       "      <td>0</td>\n",
       "      <td>0</td>\n",
       "      <td>0</td>\n",
       "      <td>0</td>\n",
       "      <td>0</td>\n",
       "    </tr>\n",
       "    <tr>\n",
       "      <th>184</th>\n",
       "      <td>Yes</td>\n",
       "      <td>Very High Income</td>\n",
       "      <td>12.9306</td>\n",
       "      <td>3.0</td>\n",
       "      <td>Positive</td>\n",
       "      <td>560085</td>\n",
       "      <td>21.0</td>\n",
       "      <td>77.5434</td>\n",
       "      <td>Ph.D</td>\n",
       "      <td>0</td>\n",
       "      <td>0</td>\n",
       "      <td>0</td>\n",
       "      <td>1</td>\n",
       "      <td>0</td>\n",
       "      <td>0</td>\n",
       "    </tr>\n",
       "    <tr>\n",
       "      <th>44</th>\n",
       "      <td>No</td>\n",
       "      <td>High Income</td>\n",
       "      <td>12.9551</td>\n",
       "      <td>4.0</td>\n",
       "      <td>Negative</td>\n",
       "      <td>560017</td>\n",
       "      <td>25.0</td>\n",
       "      <td>77.6593</td>\n",
       "      <td>Graduate</td>\n",
       "      <td>0</td>\n",
       "      <td>0</td>\n",
       "      <td>0</td>\n",
       "      <td>0</td>\n",
       "      <td>0</td>\n",
       "      <td>0</td>\n",
       "    </tr>\n",
       "    <tr>\n",
       "      <th>177</th>\n",
       "      <td>Yes</td>\n",
       "      <td>Poor</td>\n",
       "      <td>12.9770</td>\n",
       "      <td>3.0</td>\n",
       "      <td>Positive</td>\n",
       "      <td>560009</td>\n",
       "      <td>24.0</td>\n",
       "      <td>77.5773</td>\n",
       "      <td>Post Graduate</td>\n",
       "      <td>0</td>\n",
       "      <td>0</td>\n",
       "      <td>1</td>\n",
       "      <td>1</td>\n",
       "      <td>0</td>\n",
       "      <td>1</td>\n",
       "    </tr>\n",
       "  </tbody>\n",
       "</table>\n",
       "</div>"
      ],
      "text/plain": [
       "    order_status    Monthly Income  latitude Family size    Reviews  Pin code  \\\n",
       "201          Yes              Poor   13.0078         3.0   Positive    560055   \n",
       "357           No       High Income   12.9757         2.0  Negative     560023   \n",
       "184          Yes  Very High Income   12.9306         3.0   Positive    560085   \n",
       "44            No       High Income   12.9551         4.0  Negative     560017   \n",
       "177          Yes              Poor   12.9770         3.0   Positive    560009   \n",
       "\n",
       "      Age  longitude Educational Qualifications  employment_status_House wife  \\\n",
       "201  24.0    77.5577                   Graduate                             1   \n",
       "357  26.0    77.5586              Post Graduate                             0   \n",
       "184  21.0    77.5434                       Ph.D                             0   \n",
       "44   25.0    77.6593                   Graduate                             0   \n",
       "177  24.0    77.5773              Post Graduate                             0   \n",
       "\n",
       "     employment_status_Self Employeed  employment_status_Student  Gender_Male  \\\n",
       "201                                 0                          0            0   \n",
       "357                                 0                          0            0   \n",
       "184                                 0                          0            1   \n",
       "44                                  0                          0            0   \n",
       "177                                 0                          1            1   \n",
       "\n",
       "     Marital Status_Prefer not to say  Marital Status_Single  \n",
       "201                                 0                      0  \n",
       "357                                 0                      0  \n",
       "184                                 0                      0  \n",
       "44                                  0                      0  \n",
       "177                                 0                      1  "
      ]
     },
     "execution_count": 89,
     "metadata": {},
     "output_type": "execute_result"
    }
   ],
   "source": [
    "df.sample(5)"
   ]
  },
  {
   "cell_type": "markdown",
   "metadata": {},
   "source": [
    "Here 'Negative' has space at the end like \"Negative \" hence previously we were getting error of 55 values in reviews columns, after recognising the error, we mitigated it with the same by entering the space at end of word and we got the error cleared."
   ]
  },
  {
   "cell_type": "code",
   "execution_count": 92,
   "metadata": {},
   "outputs": [],
   "source": [
    "# Converting all Ordinal columns to \"object\" Dtype\n",
    "df['Reviews'] = df['Reviews'].astype('object')\n",
    "df['Educational Qualifications'] = df['Educational Qualifications'].astype('object')\n",
    "df['Monthly Income'] = df['Monthly Income'].astype('object')"
   ]
  },
  {
   "cell_type": "code",
   "execution_count": 93,
   "metadata": {},
   "outputs": [],
   "source": [
    "# Label Encoding\n",
    "mappings = {\n",
    "    \"Reviews\":{\"Negative \":0, \"Positive\":1},\n",
    "    \"Educational Qualifications\": {\"Uneducated\":0, \"School\":1, \"Graduate\":2, \"Post Graduate\":3, \"Ph.D\":4},\n",
    "    \"Monthly Income\" : {\"Poor\":0, \"Low Income\":1, \"Moderate Income\":2, \"High Income\":3, \"Very High Income\":4}\n",
    "}"
   ]
  },
  {
   "cell_type": "code",
   "execution_count": 94,
   "metadata": {},
   "outputs": [],
   "source": [
    "for i in df:\n",
    "    if i in mappings:\n",
    "        df[i]= df[i].map(mappings[i])"
   ]
  },
  {
   "cell_type": "code",
   "execution_count": 95,
   "metadata": {},
   "outputs": [
    {
     "data": {
      "text/html": [
       "<div>\n",
       "<style scoped>\n",
       "    .dataframe tbody tr th:only-of-type {\n",
       "        vertical-align: middle;\n",
       "    }\n",
       "\n",
       "    .dataframe tbody tr th {\n",
       "        vertical-align: top;\n",
       "    }\n",
       "\n",
       "    .dataframe thead th {\n",
       "        text-align: right;\n",
       "    }\n",
       "</style>\n",
       "<table border=\"1\" class=\"dataframe\">\n",
       "  <thead>\n",
       "    <tr style=\"text-align: right;\">\n",
       "      <th></th>\n",
       "      <th>order_status</th>\n",
       "      <th>Monthly Income</th>\n",
       "      <th>latitude</th>\n",
       "      <th>Family size</th>\n",
       "      <th>Reviews</th>\n",
       "      <th>Pin code</th>\n",
       "      <th>Age</th>\n",
       "      <th>longitude</th>\n",
       "      <th>Educational Qualifications</th>\n",
       "      <th>employment_status_House wife</th>\n",
       "      <th>employment_status_Self Employeed</th>\n",
       "      <th>employment_status_Student</th>\n",
       "      <th>Gender_Male</th>\n",
       "      <th>Marital Status_Prefer not to say</th>\n",
       "      <th>Marital Status_Single</th>\n",
       "    </tr>\n",
       "  </thead>\n",
       "  <tbody>\n",
       "    <tr>\n",
       "      <th>0</th>\n",
       "      <td>Yes</td>\n",
       "      <td>3</td>\n",
       "      <td>13.0262</td>\n",
       "      <td>5.0</td>\n",
       "      <td>1</td>\n",
       "      <td>560045</td>\n",
       "      <td>28.0</td>\n",
       "      <td>77.6200</td>\n",
       "      <td>3</td>\n",
       "      <td>0</td>\n",
       "      <td>0</td>\n",
       "      <td>0</td>\n",
       "      <td>1</td>\n",
       "      <td>0</td>\n",
       "      <td>0</td>\n",
       "    </tr>\n",
       "    <tr>\n",
       "      <th>1</th>\n",
       "      <td>Yes</td>\n",
       "      <td>0</td>\n",
       "      <td>12.9770</td>\n",
       "      <td>3.0</td>\n",
       "      <td>1</td>\n",
       "      <td>560009</td>\n",
       "      <td>24.0</td>\n",
       "      <td>77.5773</td>\n",
       "      <td>3</td>\n",
       "      <td>0</td>\n",
       "      <td>0</td>\n",
       "      <td>1</td>\n",
       "      <td>1</td>\n",
       "      <td>0</td>\n",
       "      <td>1</td>\n",
       "    </tr>\n",
       "    <tr>\n",
       "      <th>2</th>\n",
       "      <td>Yes</td>\n",
       "      <td>0</td>\n",
       "      <td>12.9770</td>\n",
       "      <td>3.0</td>\n",
       "      <td>1</td>\n",
       "      <td>560009</td>\n",
       "      <td>24.0</td>\n",
       "      <td>77.5773</td>\n",
       "      <td>3</td>\n",
       "      <td>0</td>\n",
       "      <td>0</td>\n",
       "      <td>1</td>\n",
       "      <td>0</td>\n",
       "      <td>0</td>\n",
       "      <td>1</td>\n",
       "    </tr>\n",
       "    <tr>\n",
       "      <th>3</th>\n",
       "      <td>Yes</td>\n",
       "      <td>0</td>\n",
       "      <td>13.0019</td>\n",
       "      <td>3.0</td>\n",
       "      <td>1</td>\n",
       "      <td>560003</td>\n",
       "      <td>24.0</td>\n",
       "      <td>77.5713</td>\n",
       "      <td>3</td>\n",
       "      <td>0</td>\n",
       "      <td>0</td>\n",
       "      <td>1</td>\n",
       "      <td>0</td>\n",
       "      <td>0</td>\n",
       "      <td>1</td>\n",
       "    </tr>\n",
       "    <tr>\n",
       "      <th>4</th>\n",
       "      <td>Yes</td>\n",
       "      <td>4</td>\n",
       "      <td>13.0626</td>\n",
       "      <td>3.0</td>\n",
       "      <td>1</td>\n",
       "      <td>560015</td>\n",
       "      <td>24.0</td>\n",
       "      <td>77.5284</td>\n",
       "      <td>1</td>\n",
       "      <td>0</td>\n",
       "      <td>1</td>\n",
       "      <td>0</td>\n",
       "      <td>1</td>\n",
       "      <td>0</td>\n",
       "      <td>0</td>\n",
       "    </tr>\n",
       "    <tr>\n",
       "      <th>...</th>\n",
       "      <td>...</td>\n",
       "      <td>...</td>\n",
       "      <td>...</td>\n",
       "      <td>...</td>\n",
       "      <td>...</td>\n",
       "      <td>...</td>\n",
       "      <td>...</td>\n",
       "      <td>...</td>\n",
       "      <td>...</td>\n",
       "      <td>...</td>\n",
       "      <td>...</td>\n",
       "      <td>...</td>\n",
       "      <td>...</td>\n",
       "      <td>...</td>\n",
       "      <td>...</td>\n",
       "    </tr>\n",
       "    <tr>\n",
       "      <th>381</th>\n",
       "      <td>No</td>\n",
       "      <td>4</td>\n",
       "      <td>13.0503</td>\n",
       "      <td>4.0</td>\n",
       "      <td>1</td>\n",
       "      <td>560013</td>\n",
       "      <td>27.0</td>\n",
       "      <td>77.5529</td>\n",
       "      <td>4</td>\n",
       "      <td>0</td>\n",
       "      <td>0</td>\n",
       "      <td>0</td>\n",
       "      <td>1</td>\n",
       "      <td>0</td>\n",
       "      <td>1</td>\n",
       "    </tr>\n",
       "    <tr>\n",
       "      <th>382</th>\n",
       "      <td>No</td>\n",
       "      <td>4</td>\n",
       "      <td>12.9337</td>\n",
       "      <td>3.0</td>\n",
       "      <td>0</td>\n",
       "      <td>560011</td>\n",
       "      <td>26.0</td>\n",
       "      <td>77.5900</td>\n",
       "      <td>3</td>\n",
       "      <td>0</td>\n",
       "      <td>0</td>\n",
       "      <td>0</td>\n",
       "      <td>1</td>\n",
       "      <td>0</td>\n",
       "      <td>1</td>\n",
       "    </tr>\n",
       "    <tr>\n",
       "      <th>383</th>\n",
       "      <td>Yes</td>\n",
       "      <td>0</td>\n",
       "      <td>12.9883</td>\n",
       "      <td>5.0</td>\n",
       "      <td>1</td>\n",
       "      <td>560051</td>\n",
       "      <td>24.0</td>\n",
       "      <td>77.5987</td>\n",
       "      <td>3</td>\n",
       "      <td>0</td>\n",
       "      <td>0</td>\n",
       "      <td>1</td>\n",
       "      <td>0</td>\n",
       "      <td>0</td>\n",
       "      <td>1</td>\n",
       "    </tr>\n",
       "    <tr>\n",
       "      <th>385</th>\n",
       "      <td>Yes</td>\n",
       "      <td>2</td>\n",
       "      <td>12.9850</td>\n",
       "      <td>5.0</td>\n",
       "      <td>1</td>\n",
       "      <td>560010</td>\n",
       "      <td>22.0</td>\n",
       "      <td>77.5533</td>\n",
       "      <td>3</td>\n",
       "      <td>0</td>\n",
       "      <td>0</td>\n",
       "      <td>1</td>\n",
       "      <td>0</td>\n",
       "      <td>0</td>\n",
       "      <td>1</td>\n",
       "    </tr>\n",
       "    <tr>\n",
       "      <th>386</th>\n",
       "      <td>Yes</td>\n",
       "      <td>2</td>\n",
       "      <td>12.9698</td>\n",
       "      <td>3.0</td>\n",
       "      <td>1</td>\n",
       "      <td>560066</td>\n",
       "      <td>22.0</td>\n",
       "      <td>77.7500</td>\n",
       "      <td>2</td>\n",
       "      <td>0</td>\n",
       "      <td>0</td>\n",
       "      <td>0</td>\n",
       "      <td>0</td>\n",
       "      <td>0</td>\n",
       "      <td>1</td>\n",
       "    </tr>\n",
       "  </tbody>\n",
       "</table>\n",
       "<p>291 rows × 15 columns</p>\n",
       "</div>"
      ],
      "text/plain": [
       "    order_status  Monthly Income  latitude Family size  Reviews  Pin code  \\\n",
       "0            Yes               3   13.0262         5.0        1    560045   \n",
       "1            Yes               0   12.9770         3.0        1    560009   \n",
       "2            Yes               0   12.9770         3.0        1    560009   \n",
       "3            Yes               0   13.0019         3.0        1    560003   \n",
       "4            Yes               4   13.0626         3.0        1    560015   \n",
       "..           ...             ...       ...         ...      ...       ...   \n",
       "381           No               4   13.0503         4.0        1    560013   \n",
       "382           No               4   12.9337         3.0        0    560011   \n",
       "383          Yes               0   12.9883         5.0        1    560051   \n",
       "385          Yes               2   12.9850         5.0        1    560010   \n",
       "386          Yes               2   12.9698         3.0        1    560066   \n",
       "\n",
       "      Age  longitude  Educational Qualifications  \\\n",
       "0    28.0    77.6200                           3   \n",
       "1    24.0    77.5773                           3   \n",
       "2    24.0    77.5773                           3   \n",
       "3    24.0    77.5713                           3   \n",
       "4    24.0    77.5284                           1   \n",
       "..    ...        ...                         ...   \n",
       "381  27.0    77.5529                           4   \n",
       "382  26.0    77.5900                           3   \n",
       "383  24.0    77.5987                           3   \n",
       "385  22.0    77.5533                           3   \n",
       "386  22.0    77.7500                           2   \n",
       "\n",
       "     employment_status_House wife  employment_status_Self Employeed  \\\n",
       "0                               0                                 0   \n",
       "1                               0                                 0   \n",
       "2                               0                                 0   \n",
       "3                               0                                 0   \n",
       "4                               0                                 1   \n",
       "..                            ...                               ...   \n",
       "381                             0                                 0   \n",
       "382                             0                                 0   \n",
       "383                             0                                 0   \n",
       "385                             0                                 0   \n",
       "386                             0                                 0   \n",
       "\n",
       "     employment_status_Student  Gender_Male  Marital Status_Prefer not to say  \\\n",
       "0                            0            1                                 0   \n",
       "1                            1            1                                 0   \n",
       "2                            1            0                                 0   \n",
       "3                            1            0                                 0   \n",
       "4                            0            1                                 0   \n",
       "..                         ...          ...                               ...   \n",
       "381                          0            1                                 0   \n",
       "382                          0            1                                 0   \n",
       "383                          1            0                                 0   \n",
       "385                          1            0                                 0   \n",
       "386                          0            0                                 0   \n",
       "\n",
       "     Marital Status_Single  \n",
       "0                        0  \n",
       "1                        1  \n",
       "2                        1  \n",
       "3                        1  \n",
       "4                        0  \n",
       "..                     ...  \n",
       "381                      1  \n",
       "382                      1  \n",
       "383                      1  \n",
       "385                      1  \n",
       "386                      1  \n",
       "\n",
       "[291 rows x 15 columns]"
      ]
     },
     "execution_count": 95,
     "metadata": {},
     "output_type": "execute_result"
    }
   ],
   "source": [
    "df"
   ]
  },
  {
   "cell_type": "code",
   "execution_count": 96,
   "metadata": {},
   "outputs": [
    {
     "data": {
      "text/plain": [
       "order_status                        0\n",
       "Monthly Income                      0\n",
       "latitude                            0\n",
       "Family size                         0\n",
       "Reviews                             0\n",
       "Pin code                            0\n",
       "Age                                 0\n",
       "longitude                           0\n",
       "Educational Qualifications          0\n",
       "employment_status_House wife        0\n",
       "employment_status_Self Employeed    0\n",
       "employment_status_Student           0\n",
       "Gender_Male                         0\n",
       "Marital Status_Prefer not to say    0\n",
       "Marital Status_Single               0\n",
       "dtype: int64"
      ]
     },
     "execution_count": 96,
     "metadata": {},
     "output_type": "execute_result"
    }
   ],
   "source": [
    "df.isna().sum()"
   ]
  },
  {
   "cell_type": "code",
   "execution_count": 97,
   "metadata": {},
   "outputs": [
    {
     "name": "stdout",
     "output_type": "stream",
     "text": [
      "<class 'pandas.core.frame.DataFrame'>\n",
      "Int64Index: 291 entries, 0 to 386\n",
      "Data columns (total 15 columns):\n",
      " #   Column                            Non-Null Count  Dtype   \n",
      "---  ------                            --------------  -----   \n",
      " 0   order_status                      291 non-null    object  \n",
      " 1   Monthly Income                    291 non-null    int64   \n",
      " 2   latitude                          291 non-null    float64 \n",
      " 3   Family size                       291 non-null    category\n",
      " 4   Reviews                           291 non-null    int64   \n",
      " 5   Pin code                          291 non-null    int64   \n",
      " 6   Age                               291 non-null    float64 \n",
      " 7   longitude                         291 non-null    float64 \n",
      " 8   Educational Qualifications        291 non-null    int64   \n",
      " 9   employment_status_House wife      291 non-null    uint8   \n",
      " 10  employment_status_Self Employeed  291 non-null    uint8   \n",
      " 11  employment_status_Student         291 non-null    uint8   \n",
      " 12  Gender_Male                       291 non-null    uint8   \n",
      " 13  Marital Status_Prefer not to say  291 non-null    uint8   \n",
      " 14  Marital Status_Single             291 non-null    uint8   \n",
      "dtypes: category(1), float64(3), int64(4), object(1), uint8(6)\n",
      "memory usage: 22.7+ KB\n"
     ]
    }
   ],
   "source": [
    "df.info()"
   ]
  },
  {
   "cell_type": "code",
   "execution_count": 161,
   "metadata": {},
   "outputs": [],
   "source": [
    "# Converting the prepared data to .csv file for Machine Learning Algortihms \n",
    "df.to_csv(\"onlineclean.csv\")"
   ]
  },
  {
   "cell_type": "markdown",
   "metadata": {},
   "source": [
    "# **END**"
   ]
  }
 ],
 "metadata": {
  "kernelspec": {
   "display_name": "base",
   "language": "python",
   "name": "python3"
  },
  "language_info": {
   "codemirror_mode": {
    "name": "ipython",
    "version": 3
   },
   "file_extension": ".py",
   "mimetype": "text/x-python",
   "name": "python",
   "nbconvert_exporter": "python",
   "pygments_lexer": "ipython3",
   "version": "3.11.3"
  }
 },
 "nbformat": 4,
 "nbformat_minor": 2
}
